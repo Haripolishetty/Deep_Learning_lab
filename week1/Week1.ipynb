{
  "nbformat": 4,
  "nbformat_minor": 0,
  "metadata": {
    "colab": {
      "provenance": []
    },
    "kernelspec": {
      "name": "python3",
      "display_name": "Python 3"
    },
    "language_info": {
      "name": "python"
    }
  },
  "cells": [
    {
      "cell_type": "markdown",
      "source": [
        "\n",
        "\n",
        "#Hari_sai_polishetty_210968168"
      ],
      "metadata": {
        "id": "9YoVyjFHVALb"
      }
    },
    {
      "cell_type": "markdown",
      "source": [
        "#importing libraries"
      ],
      "metadata": {
        "id": "BRzhaM4mU5Bh"
      }
    },
    {
      "cell_type": "code",
      "execution_count": 1,
      "metadata": {
        "id": "havjX86llqXm"
      },
      "outputs": [],
      "source": [
        "import pandas as pd\n",
        "import numpy as np\n",
        "import tensorflow as tf\n",
        "from tensorflow.keras.models import  Sequential\n",
        "from tensorflow.keras.layers import Dense, Input"
      ]
    },
    {
      "cell_type": "markdown",
      "source": [
        "#importing Dataset\n"
      ],
      "metadata": {
        "id": "3x5UVYImTTWL"
      }
    },
    {
      "cell_type": "code",
      "source": [
        "df = pd.read_csv(\"/content/bodyfat.csv\")"
      ],
      "metadata": {
        "id": "KZXg1_urqshd"
      },
      "execution_count": 2,
      "outputs": []
    },
    {
      "cell_type": "code",
      "source": [
        "df"
      ],
      "metadata": {
        "colab": {
          "base_uri": "https://localhost:8080/",
          "height": 483
        },
        "id": "xlUso68yq5CO",
        "outputId": "99fc209d-cf9d-4092-c6fa-86eadcf9962e"
      },
      "execution_count": 3,
      "outputs": [
        {
          "output_type": "execute_result",
          "data": {
            "text/plain": [
              "     Density  BodyFat  Age  Weight  Height  Neck  Chest  Abdomen    Hip  \\\n",
              "0     1.0708     12.3   23  154.25   67.75  36.2   93.1     85.2   94.5   \n",
              "1     1.0853      6.1   22  173.25   72.25  38.5   93.6     83.0   98.7   \n",
              "2     1.0414     25.3   22  154.00   66.25  34.0   95.8     87.9   99.2   \n",
              "3     1.0751     10.4   26  184.75   72.25  37.4  101.8     86.4  101.2   \n",
              "4     1.0340     28.7   24  184.25   71.25  34.4   97.3    100.0  101.9   \n",
              "..       ...      ...  ...     ...     ...   ...    ...      ...    ...   \n",
              "247   1.0736     11.0   70  134.25   67.00  34.9   89.2     83.6   88.8   \n",
              "248   1.0236     33.6   72  201.00   69.75  40.9  108.5    105.0  104.5   \n",
              "249   1.0328     29.3   72  186.75   66.00  38.9  111.1    111.5  101.7   \n",
              "250   1.0399     26.0   72  190.75   70.50  38.9  108.3    101.3   97.8   \n",
              "251   1.0271     31.9   74  207.50   70.00  40.8  112.4    108.5  107.1   \n",
              "\n",
              "     Thigh  Knee  Ankle  Biceps  Forearm  Wrist  \n",
              "0     59.0  37.3   21.9    32.0     27.4   17.1  \n",
              "1     58.7  37.3   23.4    30.5     28.9   18.2  \n",
              "2     59.6  38.9   24.0    28.8     25.2   16.6  \n",
              "3     60.1  37.3   22.8    32.4     29.4   18.2  \n",
              "4     63.2  42.2   24.0    32.2     27.7   17.7  \n",
              "..     ...   ...    ...     ...      ...    ...  \n",
              "247   49.6  34.8   21.5    25.6     25.7   18.5  \n",
              "248   59.6  40.8   23.2    35.2     28.6   20.1  \n",
              "249   60.3  37.3   21.5    31.3     27.2   18.0  \n",
              "250   56.0  41.6   22.7    30.5     29.4   19.8  \n",
              "251   59.3  42.2   24.6    33.7     30.0   20.9  \n",
              "\n",
              "[252 rows x 15 columns]"
            ],
            "text/html": [
              "\n",
              "\n",
              "  <div id=\"df-43c8bfa5-5ef0-49f9-8c15-484715fbaf50\">\n",
              "    <div class=\"colab-df-container\">\n",
              "      <div>\n",
              "<style scoped>\n",
              "    .dataframe tbody tr th:only-of-type {\n",
              "        vertical-align: middle;\n",
              "    }\n",
              "\n",
              "    .dataframe tbody tr th {\n",
              "        vertical-align: top;\n",
              "    }\n",
              "\n",
              "    .dataframe thead th {\n",
              "        text-align: right;\n",
              "    }\n",
              "</style>\n",
              "<table border=\"1\" class=\"dataframe\">\n",
              "  <thead>\n",
              "    <tr style=\"text-align: right;\">\n",
              "      <th></th>\n",
              "      <th>Density</th>\n",
              "      <th>BodyFat</th>\n",
              "      <th>Age</th>\n",
              "      <th>Weight</th>\n",
              "      <th>Height</th>\n",
              "      <th>Neck</th>\n",
              "      <th>Chest</th>\n",
              "      <th>Abdomen</th>\n",
              "      <th>Hip</th>\n",
              "      <th>Thigh</th>\n",
              "      <th>Knee</th>\n",
              "      <th>Ankle</th>\n",
              "      <th>Biceps</th>\n",
              "      <th>Forearm</th>\n",
              "      <th>Wrist</th>\n",
              "    </tr>\n",
              "  </thead>\n",
              "  <tbody>\n",
              "    <tr>\n",
              "      <th>0</th>\n",
              "      <td>1.0708</td>\n",
              "      <td>12.3</td>\n",
              "      <td>23</td>\n",
              "      <td>154.25</td>\n",
              "      <td>67.75</td>\n",
              "      <td>36.2</td>\n",
              "      <td>93.1</td>\n",
              "      <td>85.2</td>\n",
              "      <td>94.5</td>\n",
              "      <td>59.0</td>\n",
              "      <td>37.3</td>\n",
              "      <td>21.9</td>\n",
              "      <td>32.0</td>\n",
              "      <td>27.4</td>\n",
              "      <td>17.1</td>\n",
              "    </tr>\n",
              "    <tr>\n",
              "      <th>1</th>\n",
              "      <td>1.0853</td>\n",
              "      <td>6.1</td>\n",
              "      <td>22</td>\n",
              "      <td>173.25</td>\n",
              "      <td>72.25</td>\n",
              "      <td>38.5</td>\n",
              "      <td>93.6</td>\n",
              "      <td>83.0</td>\n",
              "      <td>98.7</td>\n",
              "      <td>58.7</td>\n",
              "      <td>37.3</td>\n",
              "      <td>23.4</td>\n",
              "      <td>30.5</td>\n",
              "      <td>28.9</td>\n",
              "      <td>18.2</td>\n",
              "    </tr>\n",
              "    <tr>\n",
              "      <th>2</th>\n",
              "      <td>1.0414</td>\n",
              "      <td>25.3</td>\n",
              "      <td>22</td>\n",
              "      <td>154.00</td>\n",
              "      <td>66.25</td>\n",
              "      <td>34.0</td>\n",
              "      <td>95.8</td>\n",
              "      <td>87.9</td>\n",
              "      <td>99.2</td>\n",
              "      <td>59.6</td>\n",
              "      <td>38.9</td>\n",
              "      <td>24.0</td>\n",
              "      <td>28.8</td>\n",
              "      <td>25.2</td>\n",
              "      <td>16.6</td>\n",
              "    </tr>\n",
              "    <tr>\n",
              "      <th>3</th>\n",
              "      <td>1.0751</td>\n",
              "      <td>10.4</td>\n",
              "      <td>26</td>\n",
              "      <td>184.75</td>\n",
              "      <td>72.25</td>\n",
              "      <td>37.4</td>\n",
              "      <td>101.8</td>\n",
              "      <td>86.4</td>\n",
              "      <td>101.2</td>\n",
              "      <td>60.1</td>\n",
              "      <td>37.3</td>\n",
              "      <td>22.8</td>\n",
              "      <td>32.4</td>\n",
              "      <td>29.4</td>\n",
              "      <td>18.2</td>\n",
              "    </tr>\n",
              "    <tr>\n",
              "      <th>4</th>\n",
              "      <td>1.0340</td>\n",
              "      <td>28.7</td>\n",
              "      <td>24</td>\n",
              "      <td>184.25</td>\n",
              "      <td>71.25</td>\n",
              "      <td>34.4</td>\n",
              "      <td>97.3</td>\n",
              "      <td>100.0</td>\n",
              "      <td>101.9</td>\n",
              "      <td>63.2</td>\n",
              "      <td>42.2</td>\n",
              "      <td>24.0</td>\n",
              "      <td>32.2</td>\n",
              "      <td>27.7</td>\n",
              "      <td>17.7</td>\n",
              "    </tr>\n",
              "    <tr>\n",
              "      <th>...</th>\n",
              "      <td>...</td>\n",
              "      <td>...</td>\n",
              "      <td>...</td>\n",
              "      <td>...</td>\n",
              "      <td>...</td>\n",
              "      <td>...</td>\n",
              "      <td>...</td>\n",
              "      <td>...</td>\n",
              "      <td>...</td>\n",
              "      <td>...</td>\n",
              "      <td>...</td>\n",
              "      <td>...</td>\n",
              "      <td>...</td>\n",
              "      <td>...</td>\n",
              "      <td>...</td>\n",
              "    </tr>\n",
              "    <tr>\n",
              "      <th>247</th>\n",
              "      <td>1.0736</td>\n",
              "      <td>11.0</td>\n",
              "      <td>70</td>\n",
              "      <td>134.25</td>\n",
              "      <td>67.00</td>\n",
              "      <td>34.9</td>\n",
              "      <td>89.2</td>\n",
              "      <td>83.6</td>\n",
              "      <td>88.8</td>\n",
              "      <td>49.6</td>\n",
              "      <td>34.8</td>\n",
              "      <td>21.5</td>\n",
              "      <td>25.6</td>\n",
              "      <td>25.7</td>\n",
              "      <td>18.5</td>\n",
              "    </tr>\n",
              "    <tr>\n",
              "      <th>248</th>\n",
              "      <td>1.0236</td>\n",
              "      <td>33.6</td>\n",
              "      <td>72</td>\n",
              "      <td>201.00</td>\n",
              "      <td>69.75</td>\n",
              "      <td>40.9</td>\n",
              "      <td>108.5</td>\n",
              "      <td>105.0</td>\n",
              "      <td>104.5</td>\n",
              "      <td>59.6</td>\n",
              "      <td>40.8</td>\n",
              "      <td>23.2</td>\n",
              "      <td>35.2</td>\n",
              "      <td>28.6</td>\n",
              "      <td>20.1</td>\n",
              "    </tr>\n",
              "    <tr>\n",
              "      <th>249</th>\n",
              "      <td>1.0328</td>\n",
              "      <td>29.3</td>\n",
              "      <td>72</td>\n",
              "      <td>186.75</td>\n",
              "      <td>66.00</td>\n",
              "      <td>38.9</td>\n",
              "      <td>111.1</td>\n",
              "      <td>111.5</td>\n",
              "      <td>101.7</td>\n",
              "      <td>60.3</td>\n",
              "      <td>37.3</td>\n",
              "      <td>21.5</td>\n",
              "      <td>31.3</td>\n",
              "      <td>27.2</td>\n",
              "      <td>18.0</td>\n",
              "    </tr>\n",
              "    <tr>\n",
              "      <th>250</th>\n",
              "      <td>1.0399</td>\n",
              "      <td>26.0</td>\n",
              "      <td>72</td>\n",
              "      <td>190.75</td>\n",
              "      <td>70.50</td>\n",
              "      <td>38.9</td>\n",
              "      <td>108.3</td>\n",
              "      <td>101.3</td>\n",
              "      <td>97.8</td>\n",
              "      <td>56.0</td>\n",
              "      <td>41.6</td>\n",
              "      <td>22.7</td>\n",
              "      <td>30.5</td>\n",
              "      <td>29.4</td>\n",
              "      <td>19.8</td>\n",
              "    </tr>\n",
              "    <tr>\n",
              "      <th>251</th>\n",
              "      <td>1.0271</td>\n",
              "      <td>31.9</td>\n",
              "      <td>74</td>\n",
              "      <td>207.50</td>\n",
              "      <td>70.00</td>\n",
              "      <td>40.8</td>\n",
              "      <td>112.4</td>\n",
              "      <td>108.5</td>\n",
              "      <td>107.1</td>\n",
              "      <td>59.3</td>\n",
              "      <td>42.2</td>\n",
              "      <td>24.6</td>\n",
              "      <td>33.7</td>\n",
              "      <td>30.0</td>\n",
              "      <td>20.9</td>\n",
              "    </tr>\n",
              "  </tbody>\n",
              "</table>\n",
              "<p>252 rows × 15 columns</p>\n",
              "</div>\n",
              "      <button class=\"colab-df-convert\" onclick=\"convertToInteractive('df-43c8bfa5-5ef0-49f9-8c15-484715fbaf50')\"\n",
              "              title=\"Convert this dataframe to an interactive table.\"\n",
              "              style=\"display:none;\">\n",
              "\n",
              "  <svg xmlns=\"http://www.w3.org/2000/svg\" height=\"24px\"viewBox=\"0 0 24 24\"\n",
              "       width=\"24px\">\n",
              "    <path d=\"M0 0h24v24H0V0z\" fill=\"none\"/>\n",
              "    <path d=\"M18.56 5.44l.94 2.06.94-2.06 2.06-.94-2.06-.94-.94-2.06-.94 2.06-2.06.94zm-11 1L8.5 8.5l.94-2.06 2.06-.94-2.06-.94L8.5 2.5l-.94 2.06-2.06.94zm10 10l.94 2.06.94-2.06 2.06-.94-2.06-.94-.94-2.06-.94 2.06-2.06.94z\"/><path d=\"M17.41 7.96l-1.37-1.37c-.4-.4-.92-.59-1.43-.59-.52 0-1.04.2-1.43.59L10.3 9.45l-7.72 7.72c-.78.78-.78 2.05 0 2.83L4 21.41c.39.39.9.59 1.41.59.51 0 1.02-.2 1.41-.59l7.78-7.78 2.81-2.81c.8-.78.8-2.07 0-2.86zM5.41 20L4 18.59l7.72-7.72 1.47 1.35L5.41 20z\"/>\n",
              "  </svg>\n",
              "      </button>\n",
              "\n",
              "\n",
              "\n",
              "    <div id=\"df-3dbc24b3-969a-413a-8143-838e609ba914\">\n",
              "      <button class=\"colab-df-quickchart\" onclick=\"quickchart('df-3dbc24b3-969a-413a-8143-838e609ba914')\"\n",
              "              title=\"Suggest charts.\"\n",
              "              style=\"display:none;\">\n",
              "\n",
              "<svg xmlns=\"http://www.w3.org/2000/svg\" height=\"24px\"viewBox=\"0 0 24 24\"\n",
              "     width=\"24px\">\n",
              "    <g>\n",
              "        <path d=\"M19 3H5c-1.1 0-2 .9-2 2v14c0 1.1.9 2 2 2h14c1.1 0 2-.9 2-2V5c0-1.1-.9-2-2-2zM9 17H7v-7h2v7zm4 0h-2V7h2v10zm4 0h-2v-4h2v4z\"/>\n",
              "    </g>\n",
              "</svg>\n",
              "      </button>\n",
              "    </div>\n",
              "\n",
              "<style>\n",
              "  .colab-df-quickchart {\n",
              "    background-color: #E8F0FE;\n",
              "    border: none;\n",
              "    border-radius: 50%;\n",
              "    cursor: pointer;\n",
              "    display: none;\n",
              "    fill: #1967D2;\n",
              "    height: 32px;\n",
              "    padding: 0 0 0 0;\n",
              "    width: 32px;\n",
              "  }\n",
              "\n",
              "  .colab-df-quickchart:hover {\n",
              "    background-color: #E2EBFA;\n",
              "    box-shadow: 0px 1px 2px rgba(60, 64, 67, 0.3), 0px 1px 3px 1px rgba(60, 64, 67, 0.15);\n",
              "    fill: #174EA6;\n",
              "  }\n",
              "\n",
              "  [theme=dark] .colab-df-quickchart {\n",
              "    background-color: #3B4455;\n",
              "    fill: #D2E3FC;\n",
              "  }\n",
              "\n",
              "  [theme=dark] .colab-df-quickchart:hover {\n",
              "    background-color: #434B5C;\n",
              "    box-shadow: 0px 1px 3px 1px rgba(0, 0, 0, 0.15);\n",
              "    filter: drop-shadow(0px 1px 2px rgba(0, 0, 0, 0.3));\n",
              "    fill: #FFFFFF;\n",
              "  }\n",
              "</style>\n",
              "\n",
              "    <script>\n",
              "      async function quickchart(key) {\n",
              "        const containerElement = document.querySelector('#' + key);\n",
              "        const charts = await google.colab.kernel.invokeFunction(\n",
              "            'suggestCharts', [key], {});\n",
              "      }\n",
              "    </script>\n",
              "\n",
              "      <script>\n",
              "\n",
              "function displayQuickchartButton(domScope) {\n",
              "  let quickchartButtonEl =\n",
              "    domScope.querySelector('#df-3dbc24b3-969a-413a-8143-838e609ba914 button.colab-df-quickchart');\n",
              "  quickchartButtonEl.style.display =\n",
              "    google.colab.kernel.accessAllowed ? 'block' : 'none';\n",
              "}\n",
              "\n",
              "        displayQuickchartButton(document);\n",
              "      </script>\n",
              "      <style>\n",
              "    .colab-df-container {\n",
              "      display:flex;\n",
              "      flex-wrap:wrap;\n",
              "      gap: 12px;\n",
              "    }\n",
              "\n",
              "    .colab-df-convert {\n",
              "      background-color: #E8F0FE;\n",
              "      border: none;\n",
              "      border-radius: 50%;\n",
              "      cursor: pointer;\n",
              "      display: none;\n",
              "      fill: #1967D2;\n",
              "      height: 32px;\n",
              "      padding: 0 0 0 0;\n",
              "      width: 32px;\n",
              "    }\n",
              "\n",
              "    .colab-df-convert:hover {\n",
              "      background-color: #E2EBFA;\n",
              "      box-shadow: 0px 1px 2px rgba(60, 64, 67, 0.3), 0px 1px 3px 1px rgba(60, 64, 67, 0.15);\n",
              "      fill: #174EA6;\n",
              "    }\n",
              "\n",
              "    [theme=dark] .colab-df-convert {\n",
              "      background-color: #3B4455;\n",
              "      fill: #D2E3FC;\n",
              "    }\n",
              "\n",
              "    [theme=dark] .colab-df-convert:hover {\n",
              "      background-color: #434B5C;\n",
              "      box-shadow: 0px 1px 3px 1px rgba(0, 0, 0, 0.15);\n",
              "      filter: drop-shadow(0px 1px 2px rgba(0, 0, 0, 0.3));\n",
              "      fill: #FFFFFF;\n",
              "    }\n",
              "  </style>\n",
              "\n",
              "      <script>\n",
              "        const buttonEl =\n",
              "          document.querySelector('#df-43c8bfa5-5ef0-49f9-8c15-484715fbaf50 button.colab-df-convert');\n",
              "        buttonEl.style.display =\n",
              "          google.colab.kernel.accessAllowed ? 'block' : 'none';\n",
              "\n",
              "        async function convertToInteractive(key) {\n",
              "          const element = document.querySelector('#df-43c8bfa5-5ef0-49f9-8c15-484715fbaf50');\n",
              "          const dataTable =\n",
              "            await google.colab.kernel.invokeFunction('convertToInteractive',\n",
              "                                                     [key], {});\n",
              "          if (!dataTable) return;\n",
              "\n",
              "          const docLinkHtml = 'Like what you see? Visit the ' +\n",
              "            '<a target=\"_blank\" href=https://colab.research.google.com/notebooks/data_table.ipynb>data table notebook</a>'\n",
              "            + ' to learn more about interactive tables.';\n",
              "          element.innerHTML = '';\n",
              "          dataTable['output_type'] = 'display_data';\n",
              "          await google.colab.output.renderOutput(dataTable, element);\n",
              "          const docLink = document.createElement('div');\n",
              "          docLink.innerHTML = docLinkHtml;\n",
              "          element.appendChild(docLink);\n",
              "        }\n",
              "      </script>\n",
              "    </div>\n",
              "  </div>\n"
            ]
          },
          "metadata": {},
          "execution_count": 3
        }
      ]
    },
    {
      "cell_type": "markdown",
      "source": [
        "#Defining independent and dependent variables"
      ],
      "metadata": {
        "id": "ZqsF4gUBVoaG"
      }
    },
    {
      "cell_type": "code",
      "source": [
        "x=df.drop('BodyFat',axis=1)\n",
        "y = df['BodyFat']\n"
      ],
      "metadata": {
        "id": "tCNYyXoGq6x8"
      },
      "execution_count": 4,
      "outputs": []
    },
    {
      "cell_type": "code",
      "source": [
        "x"
      ],
      "metadata": {
        "colab": {
          "base_uri": "https://localhost:8080/",
          "height": 483
        },
        "id": "OLZHpUaPvxt-",
        "outputId": "a95d594e-7bb8-43a5-8c43-513753c8129f"
      },
      "execution_count": 5,
      "outputs": [
        {
          "output_type": "execute_result",
          "data": {
            "text/plain": [
              "     Density  Age  Weight  Height  Neck  Chest  Abdomen    Hip  Thigh  Knee  \\\n",
              "0     1.0708   23  154.25   67.75  36.2   93.1     85.2   94.5   59.0  37.3   \n",
              "1     1.0853   22  173.25   72.25  38.5   93.6     83.0   98.7   58.7  37.3   \n",
              "2     1.0414   22  154.00   66.25  34.0   95.8     87.9   99.2   59.6  38.9   \n",
              "3     1.0751   26  184.75   72.25  37.4  101.8     86.4  101.2   60.1  37.3   \n",
              "4     1.0340   24  184.25   71.25  34.4   97.3    100.0  101.9   63.2  42.2   \n",
              "..       ...  ...     ...     ...   ...    ...      ...    ...    ...   ...   \n",
              "247   1.0736   70  134.25   67.00  34.9   89.2     83.6   88.8   49.6  34.8   \n",
              "248   1.0236   72  201.00   69.75  40.9  108.5    105.0  104.5   59.6  40.8   \n",
              "249   1.0328   72  186.75   66.00  38.9  111.1    111.5  101.7   60.3  37.3   \n",
              "250   1.0399   72  190.75   70.50  38.9  108.3    101.3   97.8   56.0  41.6   \n",
              "251   1.0271   74  207.50   70.00  40.8  112.4    108.5  107.1   59.3  42.2   \n",
              "\n",
              "     Ankle  Biceps  Forearm  Wrist  \n",
              "0     21.9    32.0     27.4   17.1  \n",
              "1     23.4    30.5     28.9   18.2  \n",
              "2     24.0    28.8     25.2   16.6  \n",
              "3     22.8    32.4     29.4   18.2  \n",
              "4     24.0    32.2     27.7   17.7  \n",
              "..     ...     ...      ...    ...  \n",
              "247   21.5    25.6     25.7   18.5  \n",
              "248   23.2    35.2     28.6   20.1  \n",
              "249   21.5    31.3     27.2   18.0  \n",
              "250   22.7    30.5     29.4   19.8  \n",
              "251   24.6    33.7     30.0   20.9  \n",
              "\n",
              "[252 rows x 14 columns]"
            ],
            "text/html": [
              "\n",
              "\n",
              "  <div id=\"df-1ae1b70f-7f91-4d14-b8e1-dee05bfb60d8\">\n",
              "    <div class=\"colab-df-container\">\n",
              "      <div>\n",
              "<style scoped>\n",
              "    .dataframe tbody tr th:only-of-type {\n",
              "        vertical-align: middle;\n",
              "    }\n",
              "\n",
              "    .dataframe tbody tr th {\n",
              "        vertical-align: top;\n",
              "    }\n",
              "\n",
              "    .dataframe thead th {\n",
              "        text-align: right;\n",
              "    }\n",
              "</style>\n",
              "<table border=\"1\" class=\"dataframe\">\n",
              "  <thead>\n",
              "    <tr style=\"text-align: right;\">\n",
              "      <th></th>\n",
              "      <th>Density</th>\n",
              "      <th>Age</th>\n",
              "      <th>Weight</th>\n",
              "      <th>Height</th>\n",
              "      <th>Neck</th>\n",
              "      <th>Chest</th>\n",
              "      <th>Abdomen</th>\n",
              "      <th>Hip</th>\n",
              "      <th>Thigh</th>\n",
              "      <th>Knee</th>\n",
              "      <th>Ankle</th>\n",
              "      <th>Biceps</th>\n",
              "      <th>Forearm</th>\n",
              "      <th>Wrist</th>\n",
              "    </tr>\n",
              "  </thead>\n",
              "  <tbody>\n",
              "    <tr>\n",
              "      <th>0</th>\n",
              "      <td>1.0708</td>\n",
              "      <td>23</td>\n",
              "      <td>154.25</td>\n",
              "      <td>67.75</td>\n",
              "      <td>36.2</td>\n",
              "      <td>93.1</td>\n",
              "      <td>85.2</td>\n",
              "      <td>94.5</td>\n",
              "      <td>59.0</td>\n",
              "      <td>37.3</td>\n",
              "      <td>21.9</td>\n",
              "      <td>32.0</td>\n",
              "      <td>27.4</td>\n",
              "      <td>17.1</td>\n",
              "    </tr>\n",
              "    <tr>\n",
              "      <th>1</th>\n",
              "      <td>1.0853</td>\n",
              "      <td>22</td>\n",
              "      <td>173.25</td>\n",
              "      <td>72.25</td>\n",
              "      <td>38.5</td>\n",
              "      <td>93.6</td>\n",
              "      <td>83.0</td>\n",
              "      <td>98.7</td>\n",
              "      <td>58.7</td>\n",
              "      <td>37.3</td>\n",
              "      <td>23.4</td>\n",
              "      <td>30.5</td>\n",
              "      <td>28.9</td>\n",
              "      <td>18.2</td>\n",
              "    </tr>\n",
              "    <tr>\n",
              "      <th>2</th>\n",
              "      <td>1.0414</td>\n",
              "      <td>22</td>\n",
              "      <td>154.00</td>\n",
              "      <td>66.25</td>\n",
              "      <td>34.0</td>\n",
              "      <td>95.8</td>\n",
              "      <td>87.9</td>\n",
              "      <td>99.2</td>\n",
              "      <td>59.6</td>\n",
              "      <td>38.9</td>\n",
              "      <td>24.0</td>\n",
              "      <td>28.8</td>\n",
              "      <td>25.2</td>\n",
              "      <td>16.6</td>\n",
              "    </tr>\n",
              "    <tr>\n",
              "      <th>3</th>\n",
              "      <td>1.0751</td>\n",
              "      <td>26</td>\n",
              "      <td>184.75</td>\n",
              "      <td>72.25</td>\n",
              "      <td>37.4</td>\n",
              "      <td>101.8</td>\n",
              "      <td>86.4</td>\n",
              "      <td>101.2</td>\n",
              "      <td>60.1</td>\n",
              "      <td>37.3</td>\n",
              "      <td>22.8</td>\n",
              "      <td>32.4</td>\n",
              "      <td>29.4</td>\n",
              "      <td>18.2</td>\n",
              "    </tr>\n",
              "    <tr>\n",
              "      <th>4</th>\n",
              "      <td>1.0340</td>\n",
              "      <td>24</td>\n",
              "      <td>184.25</td>\n",
              "      <td>71.25</td>\n",
              "      <td>34.4</td>\n",
              "      <td>97.3</td>\n",
              "      <td>100.0</td>\n",
              "      <td>101.9</td>\n",
              "      <td>63.2</td>\n",
              "      <td>42.2</td>\n",
              "      <td>24.0</td>\n",
              "      <td>32.2</td>\n",
              "      <td>27.7</td>\n",
              "      <td>17.7</td>\n",
              "    </tr>\n",
              "    <tr>\n",
              "      <th>...</th>\n",
              "      <td>...</td>\n",
              "      <td>...</td>\n",
              "      <td>...</td>\n",
              "      <td>...</td>\n",
              "      <td>...</td>\n",
              "      <td>...</td>\n",
              "      <td>...</td>\n",
              "      <td>...</td>\n",
              "      <td>...</td>\n",
              "      <td>...</td>\n",
              "      <td>...</td>\n",
              "      <td>...</td>\n",
              "      <td>...</td>\n",
              "      <td>...</td>\n",
              "    </tr>\n",
              "    <tr>\n",
              "      <th>247</th>\n",
              "      <td>1.0736</td>\n",
              "      <td>70</td>\n",
              "      <td>134.25</td>\n",
              "      <td>67.00</td>\n",
              "      <td>34.9</td>\n",
              "      <td>89.2</td>\n",
              "      <td>83.6</td>\n",
              "      <td>88.8</td>\n",
              "      <td>49.6</td>\n",
              "      <td>34.8</td>\n",
              "      <td>21.5</td>\n",
              "      <td>25.6</td>\n",
              "      <td>25.7</td>\n",
              "      <td>18.5</td>\n",
              "    </tr>\n",
              "    <tr>\n",
              "      <th>248</th>\n",
              "      <td>1.0236</td>\n",
              "      <td>72</td>\n",
              "      <td>201.00</td>\n",
              "      <td>69.75</td>\n",
              "      <td>40.9</td>\n",
              "      <td>108.5</td>\n",
              "      <td>105.0</td>\n",
              "      <td>104.5</td>\n",
              "      <td>59.6</td>\n",
              "      <td>40.8</td>\n",
              "      <td>23.2</td>\n",
              "      <td>35.2</td>\n",
              "      <td>28.6</td>\n",
              "      <td>20.1</td>\n",
              "    </tr>\n",
              "    <tr>\n",
              "      <th>249</th>\n",
              "      <td>1.0328</td>\n",
              "      <td>72</td>\n",
              "      <td>186.75</td>\n",
              "      <td>66.00</td>\n",
              "      <td>38.9</td>\n",
              "      <td>111.1</td>\n",
              "      <td>111.5</td>\n",
              "      <td>101.7</td>\n",
              "      <td>60.3</td>\n",
              "      <td>37.3</td>\n",
              "      <td>21.5</td>\n",
              "      <td>31.3</td>\n",
              "      <td>27.2</td>\n",
              "      <td>18.0</td>\n",
              "    </tr>\n",
              "    <tr>\n",
              "      <th>250</th>\n",
              "      <td>1.0399</td>\n",
              "      <td>72</td>\n",
              "      <td>190.75</td>\n",
              "      <td>70.50</td>\n",
              "      <td>38.9</td>\n",
              "      <td>108.3</td>\n",
              "      <td>101.3</td>\n",
              "      <td>97.8</td>\n",
              "      <td>56.0</td>\n",
              "      <td>41.6</td>\n",
              "      <td>22.7</td>\n",
              "      <td>30.5</td>\n",
              "      <td>29.4</td>\n",
              "      <td>19.8</td>\n",
              "    </tr>\n",
              "    <tr>\n",
              "      <th>251</th>\n",
              "      <td>1.0271</td>\n",
              "      <td>74</td>\n",
              "      <td>207.50</td>\n",
              "      <td>70.00</td>\n",
              "      <td>40.8</td>\n",
              "      <td>112.4</td>\n",
              "      <td>108.5</td>\n",
              "      <td>107.1</td>\n",
              "      <td>59.3</td>\n",
              "      <td>42.2</td>\n",
              "      <td>24.6</td>\n",
              "      <td>33.7</td>\n",
              "      <td>30.0</td>\n",
              "      <td>20.9</td>\n",
              "    </tr>\n",
              "  </tbody>\n",
              "</table>\n",
              "<p>252 rows × 14 columns</p>\n",
              "</div>\n",
              "      <button class=\"colab-df-convert\" onclick=\"convertToInteractive('df-1ae1b70f-7f91-4d14-b8e1-dee05bfb60d8')\"\n",
              "              title=\"Convert this dataframe to an interactive table.\"\n",
              "              style=\"display:none;\">\n",
              "\n",
              "  <svg xmlns=\"http://www.w3.org/2000/svg\" height=\"24px\"viewBox=\"0 0 24 24\"\n",
              "       width=\"24px\">\n",
              "    <path d=\"M0 0h24v24H0V0z\" fill=\"none\"/>\n",
              "    <path d=\"M18.56 5.44l.94 2.06.94-2.06 2.06-.94-2.06-.94-.94-2.06-.94 2.06-2.06.94zm-11 1L8.5 8.5l.94-2.06 2.06-.94-2.06-.94L8.5 2.5l-.94 2.06-2.06.94zm10 10l.94 2.06.94-2.06 2.06-.94-2.06-.94-.94-2.06-.94 2.06-2.06.94z\"/><path d=\"M17.41 7.96l-1.37-1.37c-.4-.4-.92-.59-1.43-.59-.52 0-1.04.2-1.43.59L10.3 9.45l-7.72 7.72c-.78.78-.78 2.05 0 2.83L4 21.41c.39.39.9.59 1.41.59.51 0 1.02-.2 1.41-.59l7.78-7.78 2.81-2.81c.8-.78.8-2.07 0-2.86zM5.41 20L4 18.59l7.72-7.72 1.47 1.35L5.41 20z\"/>\n",
              "  </svg>\n",
              "      </button>\n",
              "\n",
              "\n",
              "\n",
              "    <div id=\"df-d5f561e1-13ab-4441-a9b7-1ff20bba813d\">\n",
              "      <button class=\"colab-df-quickchart\" onclick=\"quickchart('df-d5f561e1-13ab-4441-a9b7-1ff20bba813d')\"\n",
              "              title=\"Suggest charts.\"\n",
              "              style=\"display:none;\">\n",
              "\n",
              "<svg xmlns=\"http://www.w3.org/2000/svg\" height=\"24px\"viewBox=\"0 0 24 24\"\n",
              "     width=\"24px\">\n",
              "    <g>\n",
              "        <path d=\"M19 3H5c-1.1 0-2 .9-2 2v14c0 1.1.9 2 2 2h14c1.1 0 2-.9 2-2V5c0-1.1-.9-2-2-2zM9 17H7v-7h2v7zm4 0h-2V7h2v10zm4 0h-2v-4h2v4z\"/>\n",
              "    </g>\n",
              "</svg>\n",
              "      </button>\n",
              "    </div>\n",
              "\n",
              "<style>\n",
              "  .colab-df-quickchart {\n",
              "    background-color: #E8F0FE;\n",
              "    border: none;\n",
              "    border-radius: 50%;\n",
              "    cursor: pointer;\n",
              "    display: none;\n",
              "    fill: #1967D2;\n",
              "    height: 32px;\n",
              "    padding: 0 0 0 0;\n",
              "    width: 32px;\n",
              "  }\n",
              "\n",
              "  .colab-df-quickchart:hover {\n",
              "    background-color: #E2EBFA;\n",
              "    box-shadow: 0px 1px 2px rgba(60, 64, 67, 0.3), 0px 1px 3px 1px rgba(60, 64, 67, 0.15);\n",
              "    fill: #174EA6;\n",
              "  }\n",
              "\n",
              "  [theme=dark] .colab-df-quickchart {\n",
              "    background-color: #3B4455;\n",
              "    fill: #D2E3FC;\n",
              "  }\n",
              "\n",
              "  [theme=dark] .colab-df-quickchart:hover {\n",
              "    background-color: #434B5C;\n",
              "    box-shadow: 0px 1px 3px 1px rgba(0, 0, 0, 0.15);\n",
              "    filter: drop-shadow(0px 1px 2px rgba(0, 0, 0, 0.3));\n",
              "    fill: #FFFFFF;\n",
              "  }\n",
              "</style>\n",
              "\n",
              "    <script>\n",
              "      async function quickchart(key) {\n",
              "        const containerElement = document.querySelector('#' + key);\n",
              "        const charts = await google.colab.kernel.invokeFunction(\n",
              "            'suggestCharts', [key], {});\n",
              "      }\n",
              "    </script>\n",
              "\n",
              "      <script>\n",
              "\n",
              "function displayQuickchartButton(domScope) {\n",
              "  let quickchartButtonEl =\n",
              "    domScope.querySelector('#df-d5f561e1-13ab-4441-a9b7-1ff20bba813d button.colab-df-quickchart');\n",
              "  quickchartButtonEl.style.display =\n",
              "    google.colab.kernel.accessAllowed ? 'block' : 'none';\n",
              "}\n",
              "\n",
              "        displayQuickchartButton(document);\n",
              "      </script>\n",
              "      <style>\n",
              "    .colab-df-container {\n",
              "      display:flex;\n",
              "      flex-wrap:wrap;\n",
              "      gap: 12px;\n",
              "    }\n",
              "\n",
              "    .colab-df-convert {\n",
              "      background-color: #E8F0FE;\n",
              "      border: none;\n",
              "      border-radius: 50%;\n",
              "      cursor: pointer;\n",
              "      display: none;\n",
              "      fill: #1967D2;\n",
              "      height: 32px;\n",
              "      padding: 0 0 0 0;\n",
              "      width: 32px;\n",
              "    }\n",
              "\n",
              "    .colab-df-convert:hover {\n",
              "      background-color: #E2EBFA;\n",
              "      box-shadow: 0px 1px 2px rgba(60, 64, 67, 0.3), 0px 1px 3px 1px rgba(60, 64, 67, 0.15);\n",
              "      fill: #174EA6;\n",
              "    }\n",
              "\n",
              "    [theme=dark] .colab-df-convert {\n",
              "      background-color: #3B4455;\n",
              "      fill: #D2E3FC;\n",
              "    }\n",
              "\n",
              "    [theme=dark] .colab-df-convert:hover {\n",
              "      background-color: #434B5C;\n",
              "      box-shadow: 0px 1px 3px 1px rgba(0, 0, 0, 0.15);\n",
              "      filter: drop-shadow(0px 1px 2px rgba(0, 0, 0, 0.3));\n",
              "      fill: #FFFFFF;\n",
              "    }\n",
              "  </style>\n",
              "\n",
              "      <script>\n",
              "        const buttonEl =\n",
              "          document.querySelector('#df-1ae1b70f-7f91-4d14-b8e1-dee05bfb60d8 button.colab-df-convert');\n",
              "        buttonEl.style.display =\n",
              "          google.colab.kernel.accessAllowed ? 'block' : 'none';\n",
              "\n",
              "        async function convertToInteractive(key) {\n",
              "          const element = document.querySelector('#df-1ae1b70f-7f91-4d14-b8e1-dee05bfb60d8');\n",
              "          const dataTable =\n",
              "            await google.colab.kernel.invokeFunction('convertToInteractive',\n",
              "                                                     [key], {});\n",
              "          if (!dataTable) return;\n",
              "\n",
              "          const docLinkHtml = 'Like what you see? Visit the ' +\n",
              "            '<a target=\"_blank\" href=https://colab.research.google.com/notebooks/data_table.ipynb>data table notebook</a>'\n",
              "            + ' to learn more about interactive tables.';\n",
              "          element.innerHTML = '';\n",
              "          dataTable['output_type'] = 'display_data';\n",
              "          await google.colab.output.renderOutput(dataTable, element);\n",
              "          const docLink = document.createElement('div');\n",
              "          docLink.innerHTML = docLinkHtml;\n",
              "          element.appendChild(docLink);\n",
              "        }\n",
              "      </script>\n",
              "    </div>\n",
              "  </div>\n"
            ]
          },
          "metadata": {},
          "execution_count": 5
        }
      ]
    },
    {
      "cell_type": "code",
      "source": [
        "y"
      ],
      "metadata": {
        "colab": {
          "base_uri": "https://localhost:8080/"
        },
        "id": "9s2LU6r7v5ZU",
        "outputId": "3107a284-ea6d-4d0a-a94b-5ad261533d33"
      },
      "execution_count": 6,
      "outputs": [
        {
          "output_type": "execute_result",
          "data": {
            "text/plain": [
              "0      12.3\n",
              "1       6.1\n",
              "2      25.3\n",
              "3      10.4\n",
              "4      28.7\n",
              "       ... \n",
              "247    11.0\n",
              "248    33.6\n",
              "249    29.3\n",
              "250    26.0\n",
              "251    31.9\n",
              "Name: BodyFat, Length: 252, dtype: float64"
            ]
          },
          "metadata": {},
          "execution_count": 6
        }
      ]
    },
    {
      "cell_type": "markdown",
      "source": [
        "#spliting data into training and testing sets\n"
      ],
      "metadata": {
        "id": "NEEYmjIwV3wK"
      }
    },
    {
      "cell_type": "code",
      "source": [
        "from sklearn.model_selection import train_test_split\n"
      ],
      "metadata": {
        "id": "HLJYLQvtv7RV"
      },
      "execution_count": 7,
      "outputs": []
    },
    {
      "cell_type": "code",
      "source": [
        "x_train, x_test,y_train, y_test = train_test_split(x,y,test_size=0.2)\n",
        "#spliting the data in to 80,20-test size"
      ],
      "metadata": {
        "id": "ra4FnAn5wfMk"
      },
      "execution_count": 26,
      "outputs": []
    },
    {
      "cell_type": "markdown",
      "source": [
        "#Define the model"
      ],
      "metadata": {
        "id": "0cI6Qg1UWL4A"
      }
    },
    {
      "cell_type": "code",
      "source": [
        "model = Sequential()\n",
        "model.add(Dense(128, activation='relu', input_shape=(14,)))#no of features are 14\n",
        "model.add(Dense(64, activation='relu'))#used Relu function\n",
        "model.add(Dense(32, activation='relu'))\n",
        "model.add(Dense(1, activation='softmax'))\n",
        "#as mentioned in the question i have used 3 diff units @128,64,32 with 3 hidden layers"
      ],
      "metadata": {
        "id": "o4JP3Xe7w6ca"
      },
      "execution_count": 29,
      "outputs": []
    },
    {
      "cell_type": "code",
      "source": [
        "model.summary()\n",
        "#Disaplaying the model summary"
      ],
      "metadata": {
        "colab": {
          "base_uri": "https://localhost:8080/"
        },
        "id": "yd9IL2kjxbEd",
        "outputId": "8adfa083-2fdb-47b6-e134-cac7c2e55517"
      },
      "execution_count": 33,
      "outputs": [
        {
          "output_type": "stream",
          "name": "stdout",
          "text": [
            "Model: \"sequential_3\"\n",
            "_________________________________________________________________\n",
            " Layer (type)                Output Shape              Param #   \n",
            "=================================================================\n",
            " dense_12 (Dense)            (None, 128)               1920      \n",
            "                                                                 \n",
            " dense_13 (Dense)            (None, 64)                8256      \n",
            "                                                                 \n",
            " dense_14 (Dense)            (None, 32)                2080      \n",
            "                                                                 \n",
            " dense_15 (Dense)            (None, 1)                 33        \n",
            "                                                                 \n",
            "=================================================================\n",
            "Total params: 12,289\n",
            "Trainable params: 12,289\n",
            "Non-trainable params: 0\n",
            "_________________________________________________________________\n"
          ]
        }
      ]
    },
    {
      "cell_type": "markdown",
      "source": [
        "#compiling the model"
      ],
      "metadata": {
        "id": "Dgb5A0VWWWTr"
      }
    },
    {
      "cell_type": "code",
      "source": [
        "model.compile(optimizer='adam', loss='categorical_crossentropy',\n",
        "metrics=['accuracy'])\n"
      ],
      "metadata": {
        "id": "FnzswO-9yYT7"
      },
      "execution_count": 11,
      "outputs": []
    },
    {
      "cell_type": "code",
      "source": [
        "from keras import losses\n",
        "from keras import optimizers\n",
        "from keras import metrics\n"
      ],
      "metadata": {
        "id": "sh9ZDAXvzzQG"
      },
      "execution_count": 12,
      "outputs": []
    },
    {
      "cell_type": "code",
      "source": [
        "model.compile(loss = 'mean_squared_error',\n",
        "   optimizer =tf.keras.optimizers.Adam(learning_rate=0.1), metrics = [tf.keras.metrics.RootMeanSquaredError()])\n",
        "#learning rate is 0.1"
      ],
      "metadata": {
        "id": "-WhRiR051By9"
      },
      "execution_count": 30,
      "outputs": []
    },
    {
      "cell_type": "markdown",
      "source": [
        "#training the model with respective epochs"
      ],
      "metadata": {
        "id": "ZiHxwsueWixN"
      }
    },
    {
      "cell_type": "code",
      "source": [
        "model.fit(x_train, y_train, epochs=100,batch_size=32)\n",
        "#100 epochs"
      ],
      "metadata": {
        "colab": {
          "base_uri": "https://localhost:8080/"
        },
        "id": "o6joPlmr1hEN",
        "outputId": "fd42422c-6c26-4216-f0ad-26bf69461d92"
      },
      "execution_count": 31,
      "outputs": [
        {
          "output_type": "stream",
          "name": "stdout",
          "text": [
            "Epoch 1/100\n",
            "7/7 [==============================] - 1s 3ms/step - loss: 403.3232 - root_mean_squared_error: 20.0829\n",
            "Epoch 2/100\n",
            "7/7 [==============================] - 0s 3ms/step - loss: 403.3232 - root_mean_squared_error: 20.0829\n",
            "Epoch 3/100\n",
            "7/7 [==============================] - 0s 3ms/step - loss: 403.3232 - root_mean_squared_error: 20.0829\n",
            "Epoch 4/100\n",
            "7/7 [==============================] - 0s 5ms/step - loss: 403.3232 - root_mean_squared_error: 20.0829\n",
            "Epoch 5/100\n",
            "7/7 [==============================] - 0s 3ms/step - loss: 403.3232 - root_mean_squared_error: 20.0829\n",
            "Epoch 6/100\n",
            "7/7 [==============================] - 0s 3ms/step - loss: 403.3232 - root_mean_squared_error: 20.0829\n",
            "Epoch 7/100\n",
            "7/7 [==============================] - 0s 3ms/step - loss: 403.3232 - root_mean_squared_error: 20.0829\n",
            "Epoch 8/100\n",
            "7/7 [==============================] - 0s 3ms/step - loss: 403.3232 - root_mean_squared_error: 20.0829\n",
            "Epoch 9/100\n",
            "7/7 [==============================] - 0s 4ms/step - loss: 403.3232 - root_mean_squared_error: 20.0829\n",
            "Epoch 10/100\n",
            "7/7 [==============================] - 0s 3ms/step - loss: 403.3232 - root_mean_squared_error: 20.0829\n",
            "Epoch 11/100\n",
            "7/7 [==============================] - 0s 3ms/step - loss: 403.3232 - root_mean_squared_error: 20.0829\n",
            "Epoch 12/100\n",
            "7/7 [==============================] - 0s 3ms/step - loss: 403.3232 - root_mean_squared_error: 20.0829\n",
            "Epoch 13/100\n",
            "7/7 [==============================] - 0s 3ms/step - loss: 403.3232 - root_mean_squared_error: 20.0829\n",
            "Epoch 14/100\n",
            "7/7 [==============================] - 0s 3ms/step - loss: 403.3232 - root_mean_squared_error: 20.0829\n",
            "Epoch 15/100\n",
            "7/7 [==============================] - 0s 3ms/step - loss: 403.3232 - root_mean_squared_error: 20.0829\n",
            "Epoch 16/100\n",
            "7/7 [==============================] - 0s 3ms/step - loss: 403.3232 - root_mean_squared_error: 20.0829\n",
            "Epoch 17/100\n",
            "7/7 [==============================] - 0s 3ms/step - loss: 403.3232 - root_mean_squared_error: 20.0829\n",
            "Epoch 18/100\n",
            "7/7 [==============================] - 0s 3ms/step - loss: 403.3232 - root_mean_squared_error: 20.0829\n",
            "Epoch 19/100\n",
            "7/7 [==============================] - 0s 3ms/step - loss: 403.3232 - root_mean_squared_error: 20.0829\n",
            "Epoch 20/100\n",
            "7/7 [==============================] - 0s 5ms/step - loss: 403.3232 - root_mean_squared_error: 20.0829\n",
            "Epoch 21/100\n",
            "7/7 [==============================] - 0s 4ms/step - loss: 403.3232 - root_mean_squared_error: 20.0829\n",
            "Epoch 22/100\n",
            "7/7 [==============================] - 0s 4ms/step - loss: 403.3232 - root_mean_squared_error: 20.0829\n",
            "Epoch 23/100\n",
            "7/7 [==============================] - 0s 3ms/step - loss: 403.3232 - root_mean_squared_error: 20.0829\n",
            "Epoch 24/100\n",
            "7/7 [==============================] - 0s 3ms/step - loss: 403.3232 - root_mean_squared_error: 20.0829\n",
            "Epoch 25/100\n",
            "7/7 [==============================] - 0s 3ms/step - loss: 403.3232 - root_mean_squared_error: 20.0829\n",
            "Epoch 26/100\n",
            "7/7 [==============================] - 0s 3ms/step - loss: 403.3232 - root_mean_squared_error: 20.0829\n",
            "Epoch 27/100\n",
            "7/7 [==============================] - 0s 4ms/step - loss: 403.3232 - root_mean_squared_error: 20.0829\n",
            "Epoch 28/100\n",
            "7/7 [==============================] - 0s 4ms/step - loss: 403.3232 - root_mean_squared_error: 20.0829\n",
            "Epoch 29/100\n",
            "7/7 [==============================] - 0s 3ms/step - loss: 403.3232 - root_mean_squared_error: 20.0829\n",
            "Epoch 30/100\n",
            "7/7 [==============================] - 0s 3ms/step - loss: 403.3232 - root_mean_squared_error: 20.0829\n",
            "Epoch 31/100\n",
            "7/7 [==============================] - 0s 3ms/step - loss: 403.3232 - root_mean_squared_error: 20.0829\n",
            "Epoch 32/100\n",
            "7/7 [==============================] - 0s 3ms/step - loss: 403.3232 - root_mean_squared_error: 20.0829\n",
            "Epoch 33/100\n",
            "7/7 [==============================] - 0s 3ms/step - loss: 403.3232 - root_mean_squared_error: 20.0829\n",
            "Epoch 34/100\n",
            "7/7 [==============================] - 0s 3ms/step - loss: 403.3232 - root_mean_squared_error: 20.0829\n",
            "Epoch 35/100\n",
            "7/7 [==============================] - 0s 3ms/step - loss: 403.3232 - root_mean_squared_error: 20.0829\n",
            "Epoch 36/100\n",
            "7/7 [==============================] - 0s 3ms/step - loss: 403.3232 - root_mean_squared_error: 20.0829\n",
            "Epoch 37/100\n",
            "7/7 [==============================] - 0s 3ms/step - loss: 403.3232 - root_mean_squared_error: 20.0829\n",
            "Epoch 38/100\n",
            "7/7 [==============================] - 0s 3ms/step - loss: 403.3232 - root_mean_squared_error: 20.0829\n",
            "Epoch 39/100\n",
            "7/7 [==============================] - 0s 3ms/step - loss: 403.3232 - root_mean_squared_error: 20.0829\n",
            "Epoch 40/100\n",
            "7/7 [==============================] - 0s 3ms/step - loss: 403.3232 - root_mean_squared_error: 20.0829\n",
            "Epoch 41/100\n",
            "7/7 [==============================] - 0s 3ms/step - loss: 403.3232 - root_mean_squared_error: 20.0829\n",
            "Epoch 42/100\n",
            "7/7 [==============================] - 0s 4ms/step - loss: 403.3232 - root_mean_squared_error: 20.0829\n",
            "Epoch 43/100\n",
            "7/7 [==============================] - 0s 3ms/step - loss: 403.3232 - root_mean_squared_error: 20.0829\n",
            "Epoch 44/100\n",
            "7/7 [==============================] - 0s 3ms/step - loss: 403.3232 - root_mean_squared_error: 20.0829\n",
            "Epoch 45/100\n",
            "7/7 [==============================] - 0s 3ms/step - loss: 403.3232 - root_mean_squared_error: 20.0829\n",
            "Epoch 46/100\n",
            "7/7 [==============================] - 0s 3ms/step - loss: 403.3232 - root_mean_squared_error: 20.0829\n",
            "Epoch 47/100\n",
            "7/7 [==============================] - 0s 3ms/step - loss: 403.3232 - root_mean_squared_error: 20.0829\n",
            "Epoch 48/100\n",
            "7/7 [==============================] - 0s 3ms/step - loss: 403.3232 - root_mean_squared_error: 20.0829\n",
            "Epoch 49/100\n",
            "7/7 [==============================] - 0s 3ms/step - loss: 403.3232 - root_mean_squared_error: 20.0829\n",
            "Epoch 50/100\n",
            "7/7 [==============================] - 0s 3ms/step - loss: 403.3232 - root_mean_squared_error: 20.0829\n",
            "Epoch 51/100\n",
            "7/7 [==============================] - 0s 4ms/step - loss: 403.3232 - root_mean_squared_error: 20.0829\n",
            "Epoch 52/100\n",
            "7/7 [==============================] - 0s 3ms/step - loss: 403.3232 - root_mean_squared_error: 20.0829\n",
            "Epoch 53/100\n",
            "7/7 [==============================] - 0s 3ms/step - loss: 403.3232 - root_mean_squared_error: 20.0829\n",
            "Epoch 54/100\n",
            "7/7 [==============================] - 0s 3ms/step - loss: 403.3232 - root_mean_squared_error: 20.0829\n",
            "Epoch 55/100\n",
            "7/7 [==============================] - 0s 3ms/step - loss: 403.3232 - root_mean_squared_error: 20.0829\n",
            "Epoch 56/100\n",
            "7/7 [==============================] - 0s 3ms/step - loss: 403.3232 - root_mean_squared_error: 20.0829\n",
            "Epoch 57/100\n",
            "7/7 [==============================] - 0s 3ms/step - loss: 403.3232 - root_mean_squared_error: 20.0829\n",
            "Epoch 58/100\n",
            "7/7 [==============================] - 0s 3ms/step - loss: 403.3232 - root_mean_squared_error: 20.0829\n",
            "Epoch 59/100\n",
            "7/7 [==============================] - 0s 3ms/step - loss: 403.3232 - root_mean_squared_error: 20.0829\n",
            "Epoch 60/100\n",
            "7/7 [==============================] - 0s 4ms/step - loss: 403.3232 - root_mean_squared_error: 20.0829\n",
            "Epoch 61/100\n",
            "7/7 [==============================] - 0s 3ms/step - loss: 403.3232 - root_mean_squared_error: 20.0829\n",
            "Epoch 62/100\n",
            "7/7 [==============================] - 0s 3ms/step - loss: 403.3232 - root_mean_squared_error: 20.0829\n",
            "Epoch 63/100\n",
            "7/7 [==============================] - 0s 3ms/step - loss: 403.3232 - root_mean_squared_error: 20.0829\n",
            "Epoch 64/100\n",
            "7/7 [==============================] - 0s 3ms/step - loss: 403.3232 - root_mean_squared_error: 20.0829\n",
            "Epoch 65/100\n",
            "7/7 [==============================] - 0s 2ms/step - loss: 403.3232 - root_mean_squared_error: 20.0829\n",
            "Epoch 66/100\n",
            "7/7 [==============================] - 0s 3ms/step - loss: 403.3232 - root_mean_squared_error: 20.0829\n",
            "Epoch 67/100\n",
            "7/7 [==============================] - 0s 3ms/step - loss: 403.3232 - root_mean_squared_error: 20.0829\n",
            "Epoch 68/100\n",
            "7/7 [==============================] - 0s 3ms/step - loss: 403.3232 - root_mean_squared_error: 20.0829\n",
            "Epoch 69/100\n",
            "7/7 [==============================] - 0s 3ms/step - loss: 403.3232 - root_mean_squared_error: 20.0829\n",
            "Epoch 70/100\n",
            "7/7 [==============================] - 0s 3ms/step - loss: 403.3232 - root_mean_squared_error: 20.0829\n",
            "Epoch 71/100\n",
            "7/7 [==============================] - 0s 4ms/step - loss: 403.3232 - root_mean_squared_error: 20.0829\n",
            "Epoch 72/100\n",
            "7/7 [==============================] - 0s 3ms/step - loss: 403.3232 - root_mean_squared_error: 20.0829\n",
            "Epoch 73/100\n",
            "7/7 [==============================] - 0s 3ms/step - loss: 403.3232 - root_mean_squared_error: 20.0829\n",
            "Epoch 74/100\n",
            "7/7 [==============================] - 0s 4ms/step - loss: 403.3232 - root_mean_squared_error: 20.0829\n",
            "Epoch 75/100\n",
            "7/7 [==============================] - 0s 3ms/step - loss: 403.3232 - root_mean_squared_error: 20.0829\n",
            "Epoch 76/100\n",
            "7/7 [==============================] - 0s 5ms/step - loss: 403.3232 - root_mean_squared_error: 20.0829\n",
            "Epoch 77/100\n",
            "7/7 [==============================] - 0s 3ms/step - loss: 403.3232 - root_mean_squared_error: 20.0829\n",
            "Epoch 78/100\n",
            "7/7 [==============================] - 0s 5ms/step - loss: 403.3232 - root_mean_squared_error: 20.0829\n",
            "Epoch 79/100\n",
            "7/7 [==============================] - 0s 3ms/step - loss: 403.3232 - root_mean_squared_error: 20.0829\n",
            "Epoch 80/100\n",
            "7/7 [==============================] - 0s 3ms/step - loss: 403.3232 - root_mean_squared_error: 20.0829\n",
            "Epoch 81/100\n",
            "7/7 [==============================] - 0s 3ms/step - loss: 403.3232 - root_mean_squared_error: 20.0829\n",
            "Epoch 82/100\n",
            "7/7 [==============================] - 0s 3ms/step - loss: 403.3232 - root_mean_squared_error: 20.0829\n",
            "Epoch 83/100\n",
            "7/7 [==============================] - 0s 3ms/step - loss: 403.3232 - root_mean_squared_error: 20.0829\n",
            "Epoch 84/100\n",
            "7/7 [==============================] - 0s 4ms/step - loss: 403.3232 - root_mean_squared_error: 20.0829\n",
            "Epoch 85/100\n",
            "7/7 [==============================] - 0s 4ms/step - loss: 403.3232 - root_mean_squared_error: 20.0829\n",
            "Epoch 86/100\n",
            "7/7 [==============================] - 0s 3ms/step - loss: 403.3232 - root_mean_squared_error: 20.0829\n",
            "Epoch 87/100\n",
            "7/7 [==============================] - 0s 3ms/step - loss: 403.3232 - root_mean_squared_error: 20.0829\n",
            "Epoch 88/100\n",
            "7/7 [==============================] - 0s 3ms/step - loss: 403.3232 - root_mean_squared_error: 20.0829\n",
            "Epoch 89/100\n",
            "7/7 [==============================] - 0s 4ms/step - loss: 403.3232 - root_mean_squared_error: 20.0829\n",
            "Epoch 90/100\n",
            "7/7 [==============================] - 0s 3ms/step - loss: 403.3232 - root_mean_squared_error: 20.0829\n",
            "Epoch 91/100\n",
            "7/7 [==============================] - 0s 3ms/step - loss: 403.3232 - root_mean_squared_error: 20.0829\n",
            "Epoch 92/100\n",
            "7/7 [==============================] - 0s 3ms/step - loss: 403.3232 - root_mean_squared_error: 20.0829\n",
            "Epoch 93/100\n",
            "7/7 [==============================] - 0s 3ms/step - loss: 403.3232 - root_mean_squared_error: 20.0829\n",
            "Epoch 94/100\n",
            "7/7 [==============================] - 0s 3ms/step - loss: 403.3232 - root_mean_squared_error: 20.0829\n",
            "Epoch 95/100\n",
            "7/7 [==============================] - 0s 3ms/step - loss: 403.3232 - root_mean_squared_error: 20.0829\n",
            "Epoch 96/100\n",
            "7/7 [==============================] - 0s 3ms/step - loss: 403.3232 - root_mean_squared_error: 20.0829\n",
            "Epoch 97/100\n",
            "7/7 [==============================] - 0s 3ms/step - loss: 403.3232 - root_mean_squared_error: 20.0829\n",
            "Epoch 98/100\n",
            "7/7 [==============================] - 0s 3ms/step - loss: 403.3232 - root_mean_squared_error: 20.0829\n",
            "Epoch 99/100\n",
            "7/7 [==============================] - 0s 3ms/step - loss: 403.3232 - root_mean_squared_error: 20.0829\n",
            "Epoch 100/100\n",
            "7/7 [==============================] - 0s 4ms/step - loss: 403.3232 - root_mean_squared_error: 20.0829\n"
          ]
        },
        {
          "output_type": "execute_result",
          "data": {
            "text/plain": [
              "<keras.callbacks.History at 0x7b4b551c4f10>"
            ]
          },
          "metadata": {},
          "execution_count": 31
        }
      ]
    },
    {
      "cell_type": "code",
      "source": [
        "from sklearn.metrics import mean_squared_error"
      ],
      "metadata": {
        "id": "cKsPS7-11-LN"
      },
      "execution_count": 15,
      "outputs": []
    },
    {
      "cell_type": "code",
      "source": [
        "\n",
        "\n",
        "#here i have used the value 10 for softmax which has given me the error"
      ],
      "metadata": {
        "id": "_orej2zU2xNm"
      },
      "execution_count": 22,
      "outputs": []
    },
    {
      "cell_type": "code",
      "source": [
        "#Then corrected it with 1"
      ],
      "metadata": {
        "id": "uiCI1gBB4hMG"
      },
      "execution_count": 23,
      "outputs": []
    },
    {
      "cell_type": "code",
      "source": [
        "y_pred= model.predict(x_test)"
      ],
      "metadata": {
        "colab": {
          "base_uri": "https://localhost:8080/"
        },
        "id": "VocXfec543kW",
        "outputId": "fb1a6510-865d-440c-d2a4-003162b2e962"
      },
      "execution_count": 16,
      "outputs": [
        {
          "output_type": "stream",
          "name": "stdout",
          "text": [
            "2/2 [==============================] - 0s 4ms/step\n"
          ]
        }
      ]
    },
    {
      "cell_type": "code",
      "source": [
        "m = tf.keras.metrics.RootMeanSquaredError()\n",
        "m.update_state( y_test,y_pred)\n",
        "print('Root mean squared error:',float(m.result()))"
      ],
      "metadata": {
        "colab": {
          "base_uri": "https://localhost:8080/"
        },
        "id": "fT2Yogqk6djy",
        "outputId": "6edec6f8-0cff-43db-f521-28e5917622ed"
      },
      "execution_count": 17,
      "outputs": [
        {
          "output_type": "stream",
          "name": "stdout",
          "text": [
            "Root mean squared error: 18.227947235107422\n"
          ]
        }
      ]
    },
    {
      "cell_type": "code",
      "source": [
        "# Here i have used Root mean squared error"
      ],
      "metadata": {
        "id": "-3i_OOWrXhrd"
      },
      "execution_count": 25,
      "outputs": []
    },
    {
      "cell_type": "code",
      "source": [
        "y_test.shape"
      ],
      "metadata": {
        "colab": {
          "base_uri": "https://localhost:8080/"
        },
        "id": "o0viKJcu6zn2",
        "outputId": "aadf0df8-5c8c-4f19-81db-13f027d8e9a8"
      },
      "execution_count": 18,
      "outputs": [
        {
          "output_type": "execute_result",
          "data": {
            "text/plain": [
              "(51,)"
            ]
          },
          "metadata": {},
          "execution_count": 18
        }
      ]
    },
    {
      "cell_type": "code",
      "source": [
        "y_pred.shape"
      ],
      "metadata": {
        "colab": {
          "base_uri": "https://localhost:8080/"
        },
        "id": "vA_nlfxg7f13",
        "outputId": "e60ad3f4-b7e1-401a-d90c-83d1207887d0"
      },
      "execution_count": 19,
      "outputs": [
        {
          "output_type": "execute_result",
          "data": {
            "text/plain": [
              "(51, 1)"
            ]
          },
          "metadata": {},
          "execution_count": 19
        }
      ]
    },
    {
      "cell_type": "markdown",
      "source": [
        "#Evaluating the model"
      ],
      "metadata": {
        "id": "oQ5MSg61XU68"
      }
    },
    {
      "cell_type": "code",
      "source": [
        "m = tf.keras.metrics.MeanSquaredError()\n",
        "m.update_state( y_test,y_pred)\n",
        "print(' mean squared error:',float(m.result()))"
      ],
      "metadata": {
        "colab": {
          "base_uri": "https://localhost:8080/"
        },
        "id": "mIQKLU_S-ie3",
        "outputId": "47e2fe10-886c-4aca-84a4-bf0e32a5aafb"
      },
      "execution_count": 20,
      "outputs": [
        {
          "output_type": "stream",
          "name": "stdout",
          "text": [
            " mean squared error: 332.258056640625\n"
          ]
        }
      ]
    },
    {
      "cell_type": "code",
      "source": [
        "# i have also used mean sqaured error here"
      ],
      "metadata": {
        "id": "0YT1-l6K_fuR"
      },
      "execution_count": 32,
      "outputs": []
    },
    {
      "cell_type": "code",
      "source": [
        "#Developed a model to predict body fat with following features.\n",
        "#using Rmse the model has given the result of 18.2 and with Mse 332.25\n",
        "#updation of model could give better prediction."
      ],
      "metadata": {
        "id": "rRUTrbHSXgKP"
      },
      "execution_count": null,
      "outputs": []
    }
  ]
}