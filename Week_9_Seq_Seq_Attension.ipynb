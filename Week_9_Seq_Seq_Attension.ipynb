{
  "nbformat": 4,
  "nbformat_minor": 0,
  "metadata": {
    "colab": {
      "provenance": [],
      "gpuType": "T4",
      "include_colab_link": true
    },
    "kernelspec": {
      "name": "python3",
      "display_name": "Python 3"
    },
    "language_info": {
      "name": "python"
    },
    "accelerator": "GPU"
  },
  "cells": [
    {
      "cell_type": "markdown",
      "metadata": {
        "id": "view-in-github",
        "colab_type": "text"
      },
      "source": [
        "<a href=\"https://colab.research.google.com/github/Haripolishetty/Deep_Learning_lab/blob/main/Week_9_Seq_Seq_Attension.ipynb\" target=\"_parent\"><img src=\"https://colab.research.google.com/assets/colab-badge.svg\" alt=\"Open In Colab\"/></a>"
      ]
    },
    {
      "cell_type": "markdown",
      "source": [
        "### Import some required libraries"
      ],
      "metadata": {
        "id": "K7dPG3s9ZKqj"
      }
    },
    {
      "cell_type": "code",
      "execution_count": 1,
      "metadata": {
        "id": "987H55W8ZHAd"
      },
      "outputs": [],
      "source": [
        "import pandas as pd\n",
        "from sklearn.model_selection import train_test_split\n",
        "import string\n",
        "from string import digits\n",
        "import re\n",
        "from sklearn.utils import shuffle\n",
        "from tensorflow.keras.preprocessing.sequence import pad_sequences\n",
        "from tensorflow.keras.layers import LSTM, Input, Dense,Embedding, Concatenate, TimeDistributed\n",
        "from tensorflow.keras.models import Model,load_model, model_from_json\n",
        "from tensorflow.keras.utils import plot_model\n",
        "from tensorflow.keras.preprocessing.text import one_hot, Tokenizer\n",
        "import tensorflow as tf\n",
        "import pickle as pkl\n",
        "import numpy as np"
      ]
    },
    {
      "cell_type": "markdown",
      "source": [
        "The bellow link contains a dataset of numerous languages and its translation to English.\n",
        "http://www.manythings.org/anki/"
      ],
      "metadata": {
        "id": "Y0G5ZutQZVis"
      }
    },
    {
      "cell_type": "code",
      "source": [
        "with open('/content/tel.txt','r') as f:\n",
        "  data = f.read()"
      ],
      "metadata": {
        "id": "da1-7S1uZQAP"
      },
      "execution_count": 2,
      "outputs": []
    },
    {
      "cell_type": "code",
      "source": [
        "data"
      ],
      "metadata": {
        "colab": {
          "base_uri": "https://localhost:8080/",
          "height": 205
        },
        "id": "ttalL7OmxK0i",
        "outputId": "e448a574-742a-4847-ef36-780d44bcf8ab"
      },
      "execution_count": 3,
      "outputs": [
        {
          "output_type": "execute_result",
          "data": {
            "text/plain": [
              "\"Wonderful!\\tఅద్భుతం!\\tCC-BY 2.0 (France) Attribution: tatoeba.org #433510 (CK) & #10775002 (ramanirudh)\\nDefinitely!\\tతప్పకుండా\\tCC-BY 2.0 (France) Attribution: tatoeba.org #30542 (CM) & #7233061 (bharath)\\nHe hung up.\\tఅతను పెట్టేసాడు\\tCC-BY 2.0 (France) Attribution: tatoeba.org #301817 (CK) & #7207796 (bharath)\\nI ran home.\\tనేను ఇంటికి పరిగెత్తాను\\tCC-BY 2.0 (France) Attribution: tatoeba.org #2246046 (CK) & #7217065 (bharath)\\nWho are we?\\tమేము ఎవరము ?\\tCC-BY 2.0 (France) Attribution: tatoeba.org #2254698 (CK) & #7207797 (bharath)\\nAre you mad?\\tకోపమొచ్చిందా ?\\tCC-BY 2.0 (France) Attribution: tatoeba.org #18965 (CK) & #7210858 (bharath)\\nHe's my son.\\tఅతను మా అబ్బాయి\\tCC-BY 2.0 (France) Attribution: tatoeba.org #4703087 (CH) & #7216983 (bharath)\\nHe touched me.\\tఅతను నన్ను తాకాడు\\tCC-BY 2.0 (France) Attribution: tatoeba.org #1635587 (Spamster) & #7216926 (bharath)\\nMy head hurts.\\tనా తల నొప్పిపుడుతుంది\\tCC-BY 2.0 (France) Attribution: tatoeba.org #456425 (lukaszpp) & #7207771 (bharath)\\nI drank coffee.\\tనేను కాఫీ తాగాను\\tCC-BY 2.0 (France) Attribution: tatoeba.org #2975968 (CK) & #7217020 (bharath)\\nCongratulations!\\tఅభినందనలు\\tCC-BY 2.0 (France) Attribution: tatoeba.org #1437 (CK) & #10774999 (ramanirudh)\\nHow tall is she?\\tఆమె ఎంత పొడుగు ?\\tCC-BY 2.0 (France) Attribution: tatoeba.org #3301480 (CM) & #7216902 (bharath)\\nThey're animals.\\tవాళ్ళు మృగాలు\\tCC-BY 2.0 (France) Attribution: tatoeba.org #2199571 (Hybrid) & #7204909 (bharath)\\nCan you see that?\\tనువ్వు అది చూసావా ?\\tCC-BY 2.0 (France) Attribution: tatoeba.org #486630 (kyleadrian10) & #7217067 (bharath)\\nI began to speak.\\tనేను మాట్లాడటం మొదలుపెట్టాను\\tCC-BY 2.0 (France) Attribution: tatoeba.org #1567177 (cc_neko) & #7207776 (bharath)\\nI dislike coffee.\\tనాకు కాఫీ ఇష్టం లేదు\\tCC-BY 2.0 (France) Attribution: tatoeba.org #435429 (CK) & #7217073 (bharath)\\nI'm hungry again.\\tనాకు మళ్ళా ఆకలి వేస్తుంది\\tCC-BY 2.0 (France) Attribution: tatoeba.org #6633637 (Eccles17) & #7207803 (bharath)\\nI don't accept it.\\tనేను అంగీకరించను\\tCC-BY 2.0 (France) Attribution: tatoeba.org #2283760 (CK) & #7217062 (bharath)\\nThey're policemen.\\tవాళ్ళు పోలీసులు.\\tCC-BY 2.0 (France) Attribution: tatoeba.org #7830197 (CK) & #10775023 (ramanirudh)\\nWhat's in the box?\\tపెట్టె లో ఏముంది?\\tCC-BY 2.0 (France) Attribution: tatoeba.org #44474 (CK) & #7204849 (bharath)\\nWhich is your pen?\\tనీ కలం ఏది ?\\tCC-BY 2.0 (France) Attribution: tatoeba.org #70860 (CK) & #7204888 (bharath)\\nAre you feeling OK?\\tవొంట్లో ఎలా వుంది\\tCC-BY 2.0 (France) Attribution: tatoeba.org #20280 (CK) & #7204109 (bharath)\\nHelp came too late.\\tసహాయం చాలా ఆలస్యముగా వచ్చింది\\tCC-BY 2.0 (France) Attribution: tatoeba.org #4320401 (Adelpa) & #7217048 (bharath)\\nHow are you coming?\\tనువ్వు ఎలా వస్తున్నావ్?\\tCC-BY 2.0 (France) Attribution: tatoeba.org #2648128 (CK) & #7216989 (bharath)\\nI do make mistakes.\\tనేనూ తప్పులు చేస్తాను\\tCC-BY 2.0 (France) Attribution: tatoeba.org #5165758 (CK) & #7216979 (bharath)\\nIt wasn't my fault.\\tఅది నా తప్పు కాదు.\\tCC-BY 2.0 (France) Attribution: tatoeba.org #1064331 (CK) & #4639535 (bharath)\\nIt's very valuable.\\tఅది చాలా విలువైనది\\tCC-BY 2.0 (France) Attribution: tatoeba.org #4999970 (CK) & #7207813 (bharath)\\nShe's not a doctor.\\tఆమె వైద్యురాలు కాదు\\tCC-BY 2.0 (France) Attribution: tatoeba.org #455281 (CK) & #7217010 (bharath)\\nWe want to hear it.\\tమేము వినాలని అనుకుంటున్నాం\\tCC-BY 2.0 (France) Attribution: tatoeba.org #2011454 (CK) & #7204908 (bharath)\\nWhat will you have?\\tనువ్వు ఏమి తీసుకుంటావ్?\\tCC-BY 2.0 (France) Attribution: tatoeba.org #16265 (CK) & #7204806 (bharath)\\nWhere was your son?\\tమీ అబ్బాయి ఎక్కడ వున్నాడు ?\\tCC-BY 2.0 (France) Attribution: tatoeba.org #2647782 (CK) & #7210919 (bharath)\\nMore coffee, please.\\tదయచేసి ఇంకొంచం కాఫీ ఇవ్వరా.\\tCC-BY 2.0 (France) Attribution: tatoeba.org #701897 (Eldad) & #4639482 (bharath)\\nTom was very scared.\\tటామ్ చాలా భయపడ్డాడు.\\tCC-BY 2.0 (France) Attribution: tatoeba.org #2892382 (CK) & #4640120 (bharath)\\nWhat are you saying?\\tనువ్వు ఏం చెప్తున్నావు ?\\tCC-BY 2.0 (France) Attribution: tatoeba.org #1140042 (CK) & #7216929 (bharath)\\nYou seem very happy.\\tనువ్వు చాలా సంతోషంగా ఉన్నట్లున్నావ్\\tCC-BY 2.0 (France) Attribution: tatoeba.org #4502017 (CK) & #7217027 (bharath)\\nI don't know who won.\\tఎవరు గెలిచారో నాకు తెలియదు\\tCC-BY 2.0 (France) Attribution: tatoeba.org #6666970 (CK) & #7207825 (bharath)\\nI'll be very careful.\\tనేను చాలా జాగ్రత్తగా ఉంటాను\\tCC-BY 2.0 (France) Attribution: tatoeba.org #2590925 (CK) & #7207846 (bharath)\\nI've thought of that.\\tనాకు అది తట్టింది\\tCC-BY 2.0 (France) Attribution: tatoeba.org #3736236 (CK) & #7207811 (bharath)\\nShe sat on the bench.\\tఆమె బల్ల మీద కూర్చుంది .\\tCC-BY 2.0 (France) Attribution: tatoeba.org #501258 (CK) & #7204894 (bharath)\\nWhat else can I lose?\\tనేను ఇంకేం కోల్పోతాను ?\\tCC-BY 2.0 (France) Attribution: tatoeba.org #3822938 (CK) & #7217022 (bharath)\\nAre you two musicians?\\tమీరిద్దరూ సంగీతకారులా?\\tCC-BY 2.0 (France) Attribution: tatoeba.org #3822156 (CK) & #10775005 (ramanirudh)\\nI don't need anything.\\tనాకు ఏమీ అవసరంలేదు.\\tCC-BY 2.0 (France) Attribution: tatoeba.org #2271887 (CK) & #4639448 (bharath)\\nI heard the bell ring.\\tనాకు గంట మోగటం వినపడింది\\tCC-BY 2.0 (France) Attribution: tatoeba.org #255560 (CK) & #7216934 (bharath)\\nI heard you were sick.\\tనీకు బాగోలేదని విన్నాను\\tCC-BY 2.0 (France) Attribution: tatoeba.org #2360834 (CK) & #7207801 (bharath)\\nI suggest you do that.\\tనువ్వు అది చెయ్యమని నా సలహా\\tCC-BY 2.0 (France) Attribution: tatoeba.org #6066960 (CK) & #7204216 (bharath)\\nShe's not at home now.\\tతను ఇప్పుడు ఇంటి దగ్గర లేదు\\tCC-BY 2.0 (France) Attribution: tatoeba.org #313695 (CK) & #7207865 (bharath)\\nThe station is nearby.\\tస్టేషన్ దగ్గర్లో వుంది\\tCC-BY 2.0 (France) Attribution: tatoeba.org #26044 (CK) & #7210865 (bharath)\\nThis made me very sad.\\tఇది నన్ను చాలా బాధ పెట్టింది\\tCC-BY 2.0 (France) Attribution: tatoeba.org #1650282 (Spamster) & #7204906 (bharath)\\nI don't speak Japanese.\\tనేను జపనీస్ మాట్లాడను\\tCC-BY 2.0 (France) Attribution: tatoeba.org #1482 (CK) & #7217008 (bharath)\\nI don't trust that guy.\\tనేను వాడిని నమ్మను\\tCC-BY 2.0 (France) Attribution: tatoeba.org #2276241 (CK) & #7210903 (bharath)\\nLet's take that chance.\\tమనం ఆ అవకాశం తీసుకుందాం\\tCC-BY 2.0 (France) Attribution: tatoeba.org #2259048 (_undertoad) & #7216992 (bharath)\\nOld people walk slowly.\\tముసలివాళ్లు నెమ్మదిగా నడుస్తారు\\tCC-BY 2.0 (France) Attribution: tatoeba.org #456539 (lukaszpp) & #7210890 (bharath)\\nShe was pale with fear.\\tఆమె భయంతో తెల్లబోయింది\\tCC-BY 2.0 (France) Attribution: tatoeba.org #313241 (sacredceltic) & #7210883 (bharath)\\nShow me where it hurts.\\tఎక్కడ నొప్పి పుడుతుందో నాకు చూపించు\\tCC-BY 2.0 (France) Attribution: tatoeba.org #2234198 (lutao) & #7216996 (bharath)\\nThere was nothing left.\\tఇంకేమి మిగల్లేదు\\tCC-BY 2.0 (France) Attribution: tatoeba.org #3286813 (CK) & #7217106 (bharath)\\nThis is not a sentence.\\tఇది ఒక వాక్యం కాదు.\\tCC-BY 2.0 (France) Attribution: tatoeba.org #547389 (MUIRIEL) & #4642416 (bharath)\\nWas it really that bad?\\tఅది నిజంగా అంత చెడ్డదా ?\\tCC-BY 2.0 (France) Attribution: tatoeba.org #3184018 (Hybrid) & #7207694 (bharath)\\nCan I make a phone call?\\tనేను ఒక ఫోన్ చేసుకోవచ్చా ?\\tCC-BY 2.0 (France) Attribution: tatoeba.org #434374 (lukaszpp) & #7216930 (bharath)\\nHe didn't keep his word.\\tఅతను తన మాట నిలబెట్టుకోలేదు\\tCC-BY 2.0 (France) Attribution: tatoeba.org #2292324 (Hybrid) & #7210911 (bharath)\\nHe made her a bookshelf.\\tఅతను ఆమెకి పుస్తకాల అర తయారు చేసాడు\\tCC-BY 2.0 (France) Attribution: tatoeba.org #302733 (CK) & #7207648 (bharath)\\nIt's not all your fault.\\tఇదంతా నీ తప్పు కాదు\\tCC-BY 2.0 (France) Attribution: tatoeba.org #3377159 (CK) & #7217099 (bharath)\\nShe scared the cat away.\\tఆవిడ పిల్లిని భయపెట్టి తరిమేసింది .\\tCC-BY 2.0 (France) Attribution: tatoeba.org #316112 (CK) & #7204893 (bharath)\\nThe work is almost done.\\tపని దాదాపుగా అయిపోయింది\\tCC-BY 2.0 (France) Attribution: tatoeba.org #2480901 (AlanF_US) & #7216962 (bharath)\\nWhat's your room number?\\tనీ గది అంకె ఎంత ?\\tCC-BY 2.0 (France) Attribution: tatoeba.org #2666471 (CK) & #7217061 (bharath)\\nWhy do you want to come?\\tమీరు ఎందుకు రావాలనుకుంటున్నారు?\\tCC-BY 2.0 (France) Attribution: tatoeba.org #8920035 (sundown) & #9253685 (Hari)\\nHe dressed up as a woman.\\tఅతడు స్త్రీలాగా వస్త్రాలను ధరించాడు.\\tCC-BY 2.0 (France) Attribution: tatoeba.org #2764252 (CK) & #4639457 (bharath)\\nI think about that a lot.\\tనేను దానిగురించి చాలా ఆలోచిస్తుంటాను.\\tCC-BY 2.0 (France) Attribution: tatoeba.org #2407717 (CK) & #10775018 (ramanirudh)\\nI'll let it go this time.\\tనేను ఈసారికి వదిలేస్తాను\\tCC-BY 2.0 (France) Attribution: tatoeba.org #241983 (CK) & #7217075 (bharath)\\nNone of them are present.\\tవాళ్లెవరు రాలేదు\\tCC-BY 2.0 (France) Attribution: tatoeba.org #305115 (CK) & #7233156 (bharath)\\nPut the boxes over there.\\tడబ్బాలు అక్కడ పెట్టు\\tCC-BY 2.0 (France) Attribution: tatoeba.org #7733510 (CK) & #10568751 (epraneeth98)\\nWe did that deliberately.\\tమేము అది కావాలని చేశాం\\tCC-BY 2.0 (France) Attribution: tatoeba.org #6958606 (CK) & #7216975 (bharath)\\nWe haven't slept in days.\\tమేము రోజుల తరబడి నిద్రపోలేదు\\tCC-BY 2.0 (France) Attribution: tatoeba.org #7114638 (CK) & #7207611 (bharath)\\nWhen will you next visit?\\tమళ్ళీ ఎప్పుడు వస్తావు?\\tCC-BY 2.0 (France) Attribution: tatoeba.org #242365 (CM) & #7210873 (bharath)\\nYou have to come at once.\\tనువ్వు ఒక్కసారిగా రావాలి\\tCC-BY 2.0 (France) Attribution: tatoeba.org #3178377 (CK) & #7204171 (bharath)\\nOut of sight, out of mind.\\tచూపుకి వెలుపల\\u200b, మనసుకి వెలుపల\\u200b\\tCC-BY 2.0 (France) Attribution: tatoeba.org #323741 (jakov) & #7204361 (bharath)\\nWhen did you quit smoking?\\tపొగ తాగడం ఎప్పుడు ఆపేశావ్?\\tCC-BY 2.0 (France) Attribution: tatoeba.org #3593650 (CK) & #7204133 (bharath)\\nWhere did you put my book?\\tనా పుస్తకం ఎక్కడ పెట్టావ్?\\tCC-BY 2.0 (France) Attribution: tatoeba.org #4648997 (marllboro06) & #7216869 (bharath)\\nYou've arrived very early.\\tనువ్వు చాల త్వరగా వచ్చావు\\tCC-BY 2.0 (France) Attribution: tatoeba.org #5916155 (CK) & #7217032 (bharath)\\nBrush your teeth every day.\\tనీ పళ్ళు రోజూ తోముకో\\tCC-BY 2.0 (France) Attribution: tatoeba.org #322432 (Swift) & #7216949 (bharath)\\nDid all this really happen?\\tఇదంతా నిజంగా జరిగిందా ?\\tCC-BY 2.0 (France) Attribution: tatoeba.org #3129506 (CK) & #7210923 (bharath)\\nSome of the dogs are alive.\\tకొన్ని కుక్కలు బ్రతికే ఉన్నాయి\\tCC-BY 2.0 (France) Attribution: tatoeba.org #42015 (CK) & #7210869 (bharath)\\nThat wasn't easy, you know.\\tఅది అంత తేలిక కాదు, తెలుసా\\tCC-BY 2.0 (France) Attribution: tatoeba.org #2644063 (CK) & #7207808 (bharath)\\nThe movie's about to start.\\tచలనచిత్రం మొదలు అవ్వబోతుంది\\tCC-BY 2.0 (France) Attribution: tatoeba.org #939608 (CM) & #7207661 (bharath)\\nWe don't understand French.\\tమాకు ఫ్రెంచి అర్ధం కాదు\\tCC-BY 2.0 (France) Attribution: tatoeba.org #2273776 (CK) & #7210901 (bharath)\\nAre you prepared to do this?\\tఇది చెయ్యడానికి సిద్దంగా వున్నావా\\tCC-BY 2.0 (France) Attribution: tatoeba.org #6040259 (CK) & #7204227 (bharath)\\nI don't know where they are.\\tవాళ్ళు ఎక్కడ ఉన్నారో నాకు తెలియదు\\tCC-BY 2.0 (France) Attribution: tatoeba.org #436543 (lukaszpp) & #7233063 (bharath)\\nThe baby is crying for milk.\\tపసిపాప పాల కోసం ఏడుస్తుంది\\tCC-BY 2.0 (France) Attribution: tatoeba.org #272304 (CK) & #7207777 (bharath)\\nThis is a wonderful feature.\\tఇది ఒక అద్భుతమైన ఫీచర్\\tCC-BY 2.0 (France) Attribution: tatoeba.org #10774986 (ramanirudh) & #10774989 (ramanirudh)\\nTom has finally found a job.\\tటామ్ చివరికి ఉద్యోగం సంపాదించాడు.\\tCC-BY 2.0 (France) Attribution: tatoeba.org #7544385 (CK) & #10775006 (ramanirudh)\\nWe'd better leave her alone.\\tతనని ఒంటరిగా వదిలెయ్యడం మంచిది\\tCC-BY 2.0 (France) Attribution: tatoeba.org #317576 (CK) & #7204353 (bharath)\\nYou must stay where you are.\\tనువ్వు ఎక్కడ ఉన్నవో అక్కడే ఉండు\\tCC-BY 2.0 (France) Attribution: tatoeba.org #3178315 (CK) & #7210924 (bharath)\\nDon't interfere with my work.\\tనా పని లో అడ్డు రాకు.\\tCC-BY 2.0 (France) Attribution: tatoeba.org #245413 (CK) & #7204861 (bharath)\\nHow many mangoes do you want?\\tమీకు ఎన్ని మామిడిపండ్లు కావాలి?\\tCC-BY 2.0 (France) Attribution: tatoeba.org #1098729 (cntrational) & #4960795 (bharath)\\nShe breathed in the cold air.\\tఆమె చల్ల గాలి పీల్చింది .\\tCC-BY 2.0 (France) Attribution: tatoeba.org #716344 (CM) & #7204896 (bharath)\\nShe was on her way to school.\\tతను స్కూలుకు వెళ్ళే దారిలో వుంది\\tCC-BY 2.0 (France) Attribution: tatoeba.org #313008 (CK) & #7204188 (bharath)\\nWe need money to do anything.\\tఏం చెయ్యాలన్నా మనకి డబ్బులు కావాలి\\tCC-BY 2.0 (France) Attribution: tatoeba.org #24729 (CK) & #7204248 (bharath)\\nI know you're going to say no.\\tనాకు నువ్వు ఒద్దని చెప్తావని తెలుసు.\\tCC-BY 2.0 (France) Attribution: tatoeba.org #2376663 (CK) & #4639695 (bharath)\\nIt actually isn't that simple.\\tఅది అంత సులభం ఏం కాదు\\tCC-BY 2.0 (France) Attribution: tatoeba.org #1975718 (CK) & #7207781 (bharath)\\nTell me about your daily life.\\tనీ రోజువారీ జీవితం గురించి చెప్పు\\tCC-BY 2.0 (France) Attribution: tatoeba.org #16935 (Fanki) & #7207856 (bharath)\\nHave you ever been here before?\\tనువ్వు ఇంతకు ముందెప్పుడైనా ఇక్కడకు వచ్చావా?\\tCC-BY 2.0 (France) Attribution: tatoeba.org #5806798 (Hybrid) & #10775008 (ramanirudh)\\nThat sounds really interesting.\\tఅది చాలా ఆసక్తికరంగా ఉన్నట్లు ఉంది\\tCC-BY 2.0 (France) Attribution: tatoeba.org #36524 (CK) & #7207636 (bharath)\\nThere's no reason to be afraid.\\tభయపడాల్సిన కారణం ఏమీ లేదు.\\tCC-BY 2.0 (France) Attribution: tatoeba.org #3030776 (Hybrid) & #4642365 (bharath)\\nWe played basketball yesterday.\\tమేము నిన్న బాస్కెట్ బాల్ ఆడాము\\tCC-BY 2.0 (France) Attribution: tatoeba.org #248740 (CK) & #7210876 (bharath)\\nYou have no need to be ashamed.\\tనువ్వు సిగ్గు పడాల్సిన అవసరం లేదు\\tCC-BY 2.0 (France) Attribution: tatoeba.org #24804 (CK) & #7204881 (bharath)\\nYou may go swimming or fishing.\\tనువ్వు ఈత కొట్టడానికో లేక చేపలు పట్టడానికో వెళ్ళొచ్చు\\tCC-BY 2.0 (France) Attribution: tatoeba.org #270867 (CK) & #7204082 (bharath)\\nYou must speak in a loud voice.\\tనువ్వు గట్టిగా మాట్లాడాలి\\tCC-BY 2.0 (France) Attribution: tatoeba.org #69117 (CK) & #7217004 (bharath)\\nI'm not allowed to do that here.\\tఅది ఇక్కడ చెయ్యడానికి నాకు అనుమతి లేదు\\tCC-BY 2.0 (France) Attribution: tatoeba.org #6706177 (CK) & #7204221 (bharath)\\nMy sister is crazy about tennis.\\tమా అక్కకి టెన్నిసంటే పిచ్చి\\tCC-BY 2.0 (France) Attribution: tatoeba.org #245574 (CK) & #7204120 (bharath)\\nTom and I often chat on the bus.\\tటామ్ మరియు నేను తరచుగా బస్సులో ముచ్చటిస్తుంటాము.\\tCC-BY 2.0 (France) Attribution: tatoeba.org #7131947 (CM) & #9253775 (Hari)\\nYou can leave early if you like.\\tనీకు నచ్చితే ముందే వెళ్లిపోవచ్చు\\tCC-BY 2.0 (France) Attribution: tatoeba.org #6349189 (CK) & #10568750 (epraneeth98)\\nDo you live in this neighborhood?\\tనువ్వు ఈ చుట్టుపక్కల నివసిస్తున్నావా?\\tCC-BY 2.0 (France) Attribution: tatoeba.org #2484496 (CK) & #7204912 (bharath)\\nHave you ever had a heart attack?\\tనీకు ఎప్పుడైనా గుండెపోటు వచ్చిందా\\tCC-BY 2.0 (France) Attribution: tatoeba.org #696972 (Eldad) & #7207772 (bharath)\\nI can't keep you here any longer.\\tనిన్ను ఇక్కడ ఇంకా ఎక్కువ సమయం వుంచలేను\\tCC-BY 2.0 (France) Attribution: tatoeba.org #1952044 (CK) & #7207805 (bharath)\\nShe refuses to say more about it.\\tఆవిడ ఇంకా ఎక్కువ చెప్పడానికి ఒప్పుకోవట్లేదు\\tCC-BY 2.0 (France) Attribution: tatoeba.org #1580376 (sam_m) & #7207778 (bharath)\\nThese pencils are the same color.\\tఈ పెన్సిళ్లు ఒకే రంగులో ఉన్నాయి\\tCC-BY 2.0 (France) Attribution: tatoeba.org #1116292 (CM) & #7233157 (bharath)\\nThis is a pretty stupid question.\\tఇది చాలా తెలివితక్కువ ప్రశ్న\\tCC-BY 2.0 (France) Attribution: tatoeba.org #3001030 (Hybrid) & #7207785 (bharath)\\nDon't hesitate to ask me for help.\\tనన్ను సహాయం అడగడానికి ఏం సందేహ పడొద్దు\\tCC-BY 2.0 (France) Attribution: tatoeba.org #5138127 (CK) & #7204209 (bharath)\\nHe washed the blood off his hands.\\tఅతడు తన చేతులకి అంటిన రక్తాన్ని కడిగేసాడు\\tCC-BY 2.0 (France) Attribution: tatoeba.org #3000244 (CM) & #7207613 (bharath)\\nI'm really sorry about last night.\\tనిన్న రాత్రికి నన్ను నిజంగా క్షమించు\\tCC-BY 2.0 (France) Attribution: tatoeba.org #2540481 (CK) & #7216964 (bharath)\\nI'm usually the one who does that.\\tసాదారణంగా అది చేసేది నేనే\\tCC-BY 2.0 (France) Attribution: tatoeba.org #5937350 (CK) & #7204195 (bharath)\\nShe taught music for thirty years.\\tఆమె ముప్పై ఏళ్ళ పాటు సంగీతం నేర్పిస్తుంది\\tCC-BY 2.0 (France) Attribution: tatoeba.org #310155 (CK) & #7207652 (bharath)\\nA cat came out from under the desk.\\tఒక పిల్లి డెస్క్ కింద నుండి బయటకు వచ్చింది.\\tCC-BY 2.0 (France) Attribution: tatoeba.org #387384 (CK) & #4641854 (bharath)\\nHow about going out to eat tonight?\\tఈ రాత్రి బయటకి వెళ్లి తిందామా ?\\tCC-BY 2.0 (France) Attribution: tatoeba.org #1540880 (SHamp) & #7207836 (bharath)\\nWhat he says makes no sense at all.\\tఆటను చెప్పేది ఏం అర్ధం పర్థం లేకుండా ఉంది\\tCC-BY 2.0 (France) Attribution: tatoeba.org #282910 (CK) & #7216946 (bharath)\\nDo you have anything further to say?\\tఆ పైన ఇంకేమైనా చెప్పేది వుందా ?\\tCC-BY 2.0 (France) Attribution: tatoeba.org #25247 (CK) & #7207597 (bharath)\\nI don't have time to talk right now.\\tనాకు ఇప్పుడు మాట్లాడేంత సమయం లేదు\\tCC-BY 2.0 (France) Attribution: tatoeba.org #3181937 (CK) & #7216906 (bharath)\\nI don't want to talk to you anymore.\\tనేనింక నీతో మాట్లాడదల్చుకోవట్లేదు\\tCC-BY 2.0 (France) Attribution: tatoeba.org #2018781 (CK) & #7216921 (bharath)\\nSitting down all day is bad for you.\\tరోజంతా కూర్చోవడం నీకు మంచిది కాదు\\tCC-BY 2.0 (France) Attribution: tatoeba.org #4232520 (Hybrid) & #7216987 (bharath)\\nWe need to hire people we can trust.\\tమనం నమ్మదగిన వాళ్ళనే పనిలోకి తీసుకోవాలి\\tCC-BY 2.0 (France) Attribution: tatoeba.org #2953729 (CK) & #7207605 (bharath)\\nYou can eat lunch here in this room.\\tనువ్వు భోజనం ఇక్కడ ఈ గదిలో తినొచ్చు\\tCC-BY 2.0 (France) Attribution: tatoeba.org #57358 (CK) & #7207639 (bharath)\\nI'm getting off at the next bus stop.\\tనేను వచ్చే స్టాపు లో దిగుతాను\\tCC-BY 2.0 (France) Attribution: tatoeba.org #6660932 (CK) & #7204141 (bharath)\\nHe is teaching Spanish to the children.\\tఅతను పిల్లలకి స్పానిష్ నేర్పుతున్నాడు\\tCC-BY 2.0 (France) Attribution: tatoeba.org #434948 (lukaszpp) & #7204367 (bharath)\\nHe was a great poet as well as a doctor.\\tఆటను ఒక గొప్ప కవే కాదు మంచి వైద్యుడు కూడా\\tCC-BY 2.0 (France) Attribution: tatoeba.org #293614 (CK) & #7207766 (bharath)\\nI wouldn't go there today if I were you.\\tనేను నువ్వైతే ఈరోజు అక్కడికి వెళ్ళను\\tCC-BY 2.0 (France) Attribution: tatoeba.org #6343670 (CK) & #7207820 (bharath)\\nShe asked me how many languages I spoke.\\tనేను ఎన్ని భాషలు మట్లాడుతానని తను అడిగింది\\tCC-BY 2.0 (France) Attribution: tatoeba.org #314190 (CK) & #7204349 (bharath)\\nWhen you're a father, you'll understand.\\tనువ్వు నాన్న అయినప్పుడు నీకు అర్ధం అవుతుంది\\tCC-BY 2.0 (France) Attribution: tatoeba.org #3396553 (CK) & #7207841 (bharath)\\nWhich color do you prefer, blue or green?\\tనీకు ఏ రంగు అంటే ఇష్టం , నీలమా లేక పచ్ఛా ?\\tCC-BY 2.0 (France) Attribution: tatoeba.org #682419 (Source_VOA) & #7210896 (bharath)\\nDo you usually eat breakfast before seven?\\tనువ్వు మాములుగా ఏడు కు ముందే టిఫిన చెస్తావా?\\tCC-BY 2.0 (France) Attribution: tatoeba.org #6942429 (CK) & #7204152 (bharath)\\nIt was apparent that there was no way out.\\tవేరే దారి లేదని స్పష్టంగా తెలుస్తుంది\\tCC-BY 2.0 (France) Attribution: tatoeba.org #22327 (CK) & #7204845 (bharath)\\nDo you know the reason why she is so angry?\\tతను ఎందుకు అంత కోపంగా ఉందొ నీకు తెలుసా ?\\tCC-BY 2.0 (France) Attribution: tatoeba.org #307982 (CS) & #7204890 (bharath)\\nI should've been able to do that by myself.\\tనా అంతట నేనే చేయగలిగి వుండాల్సింది\\tCC-BY 2.0 (France) Attribution: tatoeba.org #2406376 (CK) & #7204170 (bharath)\\nPlease be careful not to let the dog loose.\\tదయచేసి కుక్కను వదిలిపెట్టకుండ జాగ్రత్త వహించండి.\\tCC-BY 2.0 (France) Attribution: tatoeba.org #38529 (CK) & #9253659 (Hari)\\nAre you still afraid something might happen?\\tఏమైనా అవుతుందని ఇంకా భయపడుతున్నావా ?\\tCC-BY 2.0 (France) Attribution: tatoeba.org #3219435 (CK) & #7207696 (bharath)\\nI have to get back home and study for a test.\\tనేను ఇంటికి వెళ్లి పరీక్ష కోసం చదవాలి\\tCC-BY 2.0 (France) Attribution: tatoeba.org #9836746 (CK) & #10568752 (epraneeth98)\\nIt's high time you left for school, isn't it?\\tస్కూలుకి బయలుదేరే సమయం అయ్యింది, కాదా\\tCC-BY 2.0 (France) Attribution: tatoeba.org #31555 (CK) & #7204262 (bharath)\\nThese socks don't stretch when you wash them.\\tఈ సాక్స్ ఉతికినప్పుడు సాగవు\\tCC-BY 2.0 (France) Attribution: tatoeba.org #2268752 (_undertoad) & #7207602 (bharath)\\nWith her heart pounding, she opened the door.\\tతన గుండె కొట్టుకుంటూనే ఆమె తలుపు తీసింది\\tCC-BY 2.0 (France) Attribution: tatoeba.org #18946 (spockofvulcan) & #7204204 (bharath)\\nCan you tell me where the nearest bus stop is?\\tదగ్గరలో వున్న బస్ స్టాప్ ఎక్కడో కొంచెం చెప్తావా\\tCC-BY 2.0 (France) Attribution: tatoeba.org #27269 (CK) & #7204372 (bharath)\\nI've made a mistake, though I didn't intend to.\\tనేనో పొరపాటు చేసాను, కావాలని కాకపోయినా.\\tCC-BY 2.0 (France) Attribution: tatoeba.org #256734 (CK) & #7233062 (bharath)\\nSome people gain weight when they quit smoking.\\tపొగత్రాగడం మానేసినప్పుడు కొందరు బరువు పెరుగుతారు\\tCC-BY 2.0 (France) Attribution: tatoeba.org #867119 (papabear) & #10775007 (ramanirudh)\\nIt's going to take all afternoon and maybe more.\\tమధ్యాహ్నం మొత్తం లేదా ఇంకా ఎక్కువ సమయం పట్టొచ్చు\\tCC-BY 2.0 (France) Attribution: tatoeba.org #6432777 (CK) & #7204179 (bharath)\\nMy father often falls asleep while watching television.\\tమా నాన్న దురదర్శిని చూస్తూనే నిద్ర పోతాడు\\tCC-BY 2.0 (France) Attribution: tatoeba.org #1233142 (jesuisunmonstre) & #7204899 (bharath)\\nHe has two pencils. One is long and the other one is short.\\tతన దగ్గర రెండు పెన్సిళ్ళు వున్నాయి. ఒకటి పొడుగు ఇంకోటి పొట్టి\\tCC-BY 2.0 (France) Attribution: tatoeba.org #1500466 (CK) & #7204237 (bharath)\\nTom thought he might not be permitted to do that by himself.\\tటామ్ తనకు తాను చేయటానికి అనుమతించకపోవచ్చని అనుకున్నాడు.\\tCC-BY 2.0 (France) Attribution: tatoeba.org #6230461 (CK) & #9253792 (Hari)\\n\""
            ],
            "application/vnd.google.colaboratory.intrinsic+json": {
              "type": "string"
            }
          },
          "metadata": {},
          "execution_count": 3
        }
      ]
    },
    {
      "cell_type": "markdown",
      "source": [
        "As you can see that it is a raw text file and hence it is necessary to clean and transform it as per our preference. We will separate Telugu and English sentences and form a list of it, continuing it by storing it into a dataframe so that it's easy for us to reuse it again easily."
      ],
      "metadata": {
        "id": "jrBoM03gl8Gb"
      }
    },
    {
      "cell_type": "markdown",
      "source": [
        "### Preprocessing Dataset"
      ],
      "metadata": {
        "id": "u2t62eKtalH5"
      }
    },
    {
      "cell_type": "code",
      "source": [
        "uncleaned_data_list = data.split('\\n')  # Split the data into a list of lines\n",
        "len(uncleaned_data_list)  # Check the length of the list\n",
        "\n",
        "uncleaned_data_list = uncleaned_data_list[:38695]  # Truncate the list to a specific length\n",
        "len(uncleaned_data_list)  # Check the length again\n",
        "\n",
        "english_word = []\n",
        "telugu_word = []\n",
        "cleaned_data_list = []\n",
        "\n",
        "# Iterate over the truncated list and split each line by '\\t'\n",
        "for word in uncleaned_data_list:\n",
        "    split_word = word.split('\\t')\n",
        "\n",
        "    # Check if the split_word list has at least two elements before trying to access them\n",
        "    if len(split_word) >= 2:\n",
        "        english_word.append(split_word[0])  # Access the first element\n",
        "        telugu_word.append(split_word[1])   # Access the second element\n",
        "\n",
        "# Create a DataFrame using pandas\n",
        "language_data = pd.DataFrame(columns=['English', 'Telugu'])\n",
        "language_data['English'] = english_word\n",
        "language_data['Telugu'] = telugu_word\n",
        "\n",
        "# Save the DataFrame to a CSV file\n",
        "language_data.to_csv('language_data.csv', index=False)\n"
      ],
      "metadata": {
        "id": "_UxfG1--aonk"
      },
      "execution_count": 4,
      "outputs": []
    },
    {
      "cell_type": "code",
      "source": [
        "language_data.head()"
      ],
      "metadata": {
        "colab": {
          "base_uri": "https://localhost:8080/",
          "height": 204
        },
        "id": "DwkALiojavLI",
        "outputId": "0ebfa6e7-8ae9-4220-b35c-a8675bffb419"
      },
      "execution_count": 5,
      "outputs": [
        {
          "output_type": "execute_result",
          "data": {
            "text/plain": [
              "       English                   Telugu\n",
              "0   Wonderful!                 అద్భుతం!\n",
              "1  Definitely!                తప్పకుండా\n",
              "2  He hung up.          అతను పెట్టేసాడు\n",
              "3  I ran home.  నేను ఇంటికి పరిగెత్తాను\n",
              "4  Who are we?             మేము ఎవరము ?"
            ],
            "text/html": [
              "\n",
              "  <div id=\"df-9d612729-f667-4b15-9476-3448d95e8516\" class=\"colab-df-container\">\n",
              "    <div>\n",
              "<style scoped>\n",
              "    .dataframe tbody tr th:only-of-type {\n",
              "        vertical-align: middle;\n",
              "    }\n",
              "\n",
              "    .dataframe tbody tr th {\n",
              "        vertical-align: top;\n",
              "    }\n",
              "\n",
              "    .dataframe thead th {\n",
              "        text-align: right;\n",
              "    }\n",
              "</style>\n",
              "<table border=\"1\" class=\"dataframe\">\n",
              "  <thead>\n",
              "    <tr style=\"text-align: right;\">\n",
              "      <th></th>\n",
              "      <th>English</th>\n",
              "      <th>Telugu</th>\n",
              "    </tr>\n",
              "  </thead>\n",
              "  <tbody>\n",
              "    <tr>\n",
              "      <th>0</th>\n",
              "      <td>Wonderful!</td>\n",
              "      <td>అద్భుతం!</td>\n",
              "    </tr>\n",
              "    <tr>\n",
              "      <th>1</th>\n",
              "      <td>Definitely!</td>\n",
              "      <td>తప్పకుండా</td>\n",
              "    </tr>\n",
              "    <tr>\n",
              "      <th>2</th>\n",
              "      <td>He hung up.</td>\n",
              "      <td>అతను పెట్టేసాడు</td>\n",
              "    </tr>\n",
              "    <tr>\n",
              "      <th>3</th>\n",
              "      <td>I ran home.</td>\n",
              "      <td>నేను ఇంటికి పరిగెత్తాను</td>\n",
              "    </tr>\n",
              "    <tr>\n",
              "      <th>4</th>\n",
              "      <td>Who are we?</td>\n",
              "      <td>మేము ఎవరము ?</td>\n",
              "    </tr>\n",
              "  </tbody>\n",
              "</table>\n",
              "</div>\n",
              "    <div class=\"colab-df-buttons\">\n",
              "\n",
              "  <div class=\"colab-df-container\">\n",
              "    <button class=\"colab-df-convert\" onclick=\"convertToInteractive('df-9d612729-f667-4b15-9476-3448d95e8516')\"\n",
              "            title=\"Convert this dataframe to an interactive table.\"\n",
              "            style=\"display:none;\">\n",
              "\n",
              "  <svg xmlns=\"http://www.w3.org/2000/svg\" height=\"24px\" viewBox=\"0 -960 960 960\">\n",
              "    <path d=\"M120-120v-720h720v720H120Zm60-500h600v-160H180v160Zm220 220h160v-160H400v160Zm0 220h160v-160H400v160ZM180-400h160v-160H180v160Zm440 0h160v-160H620v160ZM180-180h160v-160H180v160Zm440 0h160v-160H620v160Z\"/>\n",
              "  </svg>\n",
              "    </button>\n",
              "\n",
              "  <style>\n",
              "    .colab-df-container {\n",
              "      display:flex;\n",
              "      gap: 12px;\n",
              "    }\n",
              "\n",
              "    .colab-df-convert {\n",
              "      background-color: #E8F0FE;\n",
              "      border: none;\n",
              "      border-radius: 50%;\n",
              "      cursor: pointer;\n",
              "      display: none;\n",
              "      fill: #1967D2;\n",
              "      height: 32px;\n",
              "      padding: 0 0 0 0;\n",
              "      width: 32px;\n",
              "    }\n",
              "\n",
              "    .colab-df-convert:hover {\n",
              "      background-color: #E2EBFA;\n",
              "      box-shadow: 0px 1px 2px rgba(60, 64, 67, 0.3), 0px 1px 3px 1px rgba(60, 64, 67, 0.15);\n",
              "      fill: #174EA6;\n",
              "    }\n",
              "\n",
              "    .colab-df-buttons div {\n",
              "      margin-bottom: 4px;\n",
              "    }\n",
              "\n",
              "    [theme=dark] .colab-df-convert {\n",
              "      background-color: #3B4455;\n",
              "      fill: #D2E3FC;\n",
              "    }\n",
              "\n",
              "    [theme=dark] .colab-df-convert:hover {\n",
              "      background-color: #434B5C;\n",
              "      box-shadow: 0px 1px 3px 1px rgba(0, 0, 0, 0.15);\n",
              "      filter: drop-shadow(0px 1px 2px rgba(0, 0, 0, 0.3));\n",
              "      fill: #FFFFFF;\n",
              "    }\n",
              "  </style>\n",
              "\n",
              "    <script>\n",
              "      const buttonEl =\n",
              "        document.querySelector('#df-9d612729-f667-4b15-9476-3448d95e8516 button.colab-df-convert');\n",
              "      buttonEl.style.display =\n",
              "        google.colab.kernel.accessAllowed ? 'block' : 'none';\n",
              "\n",
              "      async function convertToInteractive(key) {\n",
              "        const element = document.querySelector('#df-9d612729-f667-4b15-9476-3448d95e8516');\n",
              "        const dataTable =\n",
              "          await google.colab.kernel.invokeFunction('convertToInteractive',\n",
              "                                                    [key], {});\n",
              "        if (!dataTable) return;\n",
              "\n",
              "        const docLinkHtml = 'Like what you see? Visit the ' +\n",
              "          '<a target=\"_blank\" href=https://colab.research.google.com/notebooks/data_table.ipynb>data table notebook</a>'\n",
              "          + ' to learn more about interactive tables.';\n",
              "        element.innerHTML = '';\n",
              "        dataTable['output_type'] = 'display_data';\n",
              "        await google.colab.output.renderOutput(dataTable, element);\n",
              "        const docLink = document.createElement('div');\n",
              "        docLink.innerHTML = docLinkHtml;\n",
              "        element.appendChild(docLink);\n",
              "      }\n",
              "    </script>\n",
              "  </div>\n",
              "\n",
              "\n",
              "<div id=\"df-0a9c55cc-6a6b-4daa-a5ad-1a86930038f1\">\n",
              "  <button class=\"colab-df-quickchart\" onclick=\"quickchart('df-0a9c55cc-6a6b-4daa-a5ad-1a86930038f1')\"\n",
              "            title=\"Suggest charts.\"\n",
              "            style=\"display:none;\">\n",
              "\n",
              "<svg xmlns=\"http://www.w3.org/2000/svg\" height=\"24px\"viewBox=\"0 0 24 24\"\n",
              "     width=\"24px\">\n",
              "    <g>\n",
              "        <path d=\"M19 3H5c-1.1 0-2 .9-2 2v14c0 1.1.9 2 2 2h14c1.1 0 2-.9 2-2V5c0-1.1-.9-2-2-2zM9 17H7v-7h2v7zm4 0h-2V7h2v10zm4 0h-2v-4h2v4z\"/>\n",
              "    </g>\n",
              "</svg>\n",
              "  </button>\n",
              "\n",
              "<style>\n",
              "  .colab-df-quickchart {\n",
              "      --bg-color: #E8F0FE;\n",
              "      --fill-color: #1967D2;\n",
              "      --hover-bg-color: #E2EBFA;\n",
              "      --hover-fill-color: #174EA6;\n",
              "      --disabled-fill-color: #AAA;\n",
              "      --disabled-bg-color: #DDD;\n",
              "  }\n",
              "\n",
              "  [theme=dark] .colab-df-quickchart {\n",
              "      --bg-color: #3B4455;\n",
              "      --fill-color: #D2E3FC;\n",
              "      --hover-bg-color: #434B5C;\n",
              "      --hover-fill-color: #FFFFFF;\n",
              "      --disabled-bg-color: #3B4455;\n",
              "      --disabled-fill-color: #666;\n",
              "  }\n",
              "\n",
              "  .colab-df-quickchart {\n",
              "    background-color: var(--bg-color);\n",
              "    border: none;\n",
              "    border-radius: 50%;\n",
              "    cursor: pointer;\n",
              "    display: none;\n",
              "    fill: var(--fill-color);\n",
              "    height: 32px;\n",
              "    padding: 0;\n",
              "    width: 32px;\n",
              "  }\n",
              "\n",
              "  .colab-df-quickchart:hover {\n",
              "    background-color: var(--hover-bg-color);\n",
              "    box-shadow: 0 1px 2px rgba(60, 64, 67, 0.3), 0 1px 3px 1px rgba(60, 64, 67, 0.15);\n",
              "    fill: var(--button-hover-fill-color);\n",
              "  }\n",
              "\n",
              "  .colab-df-quickchart-complete:disabled,\n",
              "  .colab-df-quickchart-complete:disabled:hover {\n",
              "    background-color: var(--disabled-bg-color);\n",
              "    fill: var(--disabled-fill-color);\n",
              "    box-shadow: none;\n",
              "  }\n",
              "\n",
              "  .colab-df-spinner {\n",
              "    border: 2px solid var(--fill-color);\n",
              "    border-color: transparent;\n",
              "    border-bottom-color: var(--fill-color);\n",
              "    animation:\n",
              "      spin 1s steps(1) infinite;\n",
              "  }\n",
              "\n",
              "  @keyframes spin {\n",
              "    0% {\n",
              "      border-color: transparent;\n",
              "      border-bottom-color: var(--fill-color);\n",
              "      border-left-color: var(--fill-color);\n",
              "    }\n",
              "    20% {\n",
              "      border-color: transparent;\n",
              "      border-left-color: var(--fill-color);\n",
              "      border-top-color: var(--fill-color);\n",
              "    }\n",
              "    30% {\n",
              "      border-color: transparent;\n",
              "      border-left-color: var(--fill-color);\n",
              "      border-top-color: var(--fill-color);\n",
              "      border-right-color: var(--fill-color);\n",
              "    }\n",
              "    40% {\n",
              "      border-color: transparent;\n",
              "      border-right-color: var(--fill-color);\n",
              "      border-top-color: var(--fill-color);\n",
              "    }\n",
              "    60% {\n",
              "      border-color: transparent;\n",
              "      border-right-color: var(--fill-color);\n",
              "    }\n",
              "    80% {\n",
              "      border-color: transparent;\n",
              "      border-right-color: var(--fill-color);\n",
              "      border-bottom-color: var(--fill-color);\n",
              "    }\n",
              "    90% {\n",
              "      border-color: transparent;\n",
              "      border-bottom-color: var(--fill-color);\n",
              "    }\n",
              "  }\n",
              "</style>\n",
              "\n",
              "  <script>\n",
              "    async function quickchart(key) {\n",
              "      const quickchartButtonEl =\n",
              "        document.querySelector('#' + key + ' button');\n",
              "      quickchartButtonEl.disabled = true;  // To prevent multiple clicks.\n",
              "      quickchartButtonEl.classList.add('colab-df-spinner');\n",
              "      try {\n",
              "        const charts = await google.colab.kernel.invokeFunction(\n",
              "            'suggestCharts', [key], {});\n",
              "      } catch (error) {\n",
              "        console.error('Error during call to suggestCharts:', error);\n",
              "      }\n",
              "      quickchartButtonEl.classList.remove('colab-df-spinner');\n",
              "      quickchartButtonEl.classList.add('colab-df-quickchart-complete');\n",
              "    }\n",
              "    (() => {\n",
              "      let quickchartButtonEl =\n",
              "        document.querySelector('#df-0a9c55cc-6a6b-4daa-a5ad-1a86930038f1 button');\n",
              "      quickchartButtonEl.style.display =\n",
              "        google.colab.kernel.accessAllowed ? 'block' : 'none';\n",
              "    })();\n",
              "  </script>\n",
              "</div>\n",
              "    </div>\n",
              "  </div>\n"
            ]
          },
          "metadata": {},
          "execution_count": 5
        }
      ]
    },
    {
      "cell_type": "code",
      "source": [
        "english_text = language_data['English'].values\n",
        "telugu_text = language_data['Telugu'].values\n",
        "len(english_text), len(telugu_text)"
      ],
      "metadata": {
        "colab": {
          "base_uri": "https://localhost:8080/"
        },
        "id": "SCnxJB5Faz78",
        "outputId": "27a3bec6-ef2a-42ba-9a32-89a72fe02f1f"
      },
      "execution_count": 6,
      "outputs": [
        {
          "output_type": "execute_result",
          "data": {
            "text/plain": [
              "(154, 154)"
            ]
          },
          "metadata": {},
          "execution_count": 6
        }
      ]
    },
    {
      "cell_type": "markdown",
      "source": [
        "### Data Cleaning"
      ],
      "metadata": {
        "id": "hBH9r3yBa9Fm"
      }
    },
    {
      "cell_type": "code",
      "source": [
        "# Convert to lower case\n",
        "english_text_ = [x.lower() for x in english_text]\n",
        "telugu_text_ = [x.lower() for x in telugu_text]\n",
        "\n",
        "# Remove inverted commas\n",
        "english_text_ = [re.sub(\"'\", '', x) for x in english_text]\n",
        "telugu_text_ = [re.sub(\"'\", '', x) for x in telugu_text]\n",
        "\n",
        "def remove_punc(text_list):\n",
        "    table = str.maketrans('', '', string.punctuation)\n",
        "    removed_punc_text = []\n",
        "    for sent in text_list:\n",
        "        sentence = [w.translate(table) for w in sent.split(' ')]\n",
        "        removed_punc_text.append(' '.join(sentence))\n",
        "    return removed_punc_text\n",
        "\n",
        "english_text_ = remove_punc(english_text_)\n",
        "telugu_text_ = remove_punc(telugu_text)\n",
        "\n",
        "remove_digits = str.maketrans('', '', digits)\n",
        "removed_digits_text = []\n",
        "\n",
        "for sent in english_text_:\n",
        "    sentence = [w.translate(remove_digits) for w in sent.split(' ')]\n",
        "    removed_digits_text.append(' '.join(sentence))\n",
        "\n",
        "english_text_ = removed_digits_text\n",
        "\n",
        "# Remove digits from the Telugu sentences\n",
        "telugu_text_ = [re.sub(\"[౨౩౦౮౧౫౭౯౪౬]\", \"\", x) for x in telugu_text]\n",
        "telugu_text_ = [re.sub(\"[\\u200d]\", \"\", x) for x in telugu_text]\n",
        "\n",
        "# Remove leading and trailing whitespaces\n",
        "english_text_ = [x.strip() for x in english_text]\n",
        "telugu_text_ = [x.strip() for x in telugu_text]\n"
      ],
      "metadata": {
        "id": "77at-dcua8SI"
      },
      "execution_count": 7,
      "outputs": []
    },
    {
      "cell_type": "code",
      "source": [
        "# Adding ‘start’ and ‘end’ tag to telugu sentence.\n",
        "#This will help the decoder to know from where to start decoding and when to end.\n",
        "telugu_text_ = [\"start \" + x + \" end\" for x in telugu_text_]\n",
        "# manipulated_telugu_text\n",
        "telugu_text_[0], english_text_[0]"
      ],
      "metadata": {
        "colab": {
          "base_uri": "https://localhost:8080/"
        },
        "id": "1Z_5qvCebPxZ",
        "outputId": "4d76341d-c04b-4f93-9592-af6dc9bae301"
      },
      "execution_count": 8,
      "outputs": [
        {
          "output_type": "execute_result",
          "data": {
            "text/plain": [
              "('start అద్భుతం! end', 'Wonderful!')"
            ]
          },
          "metadata": {},
          "execution_count": 8
        }
      ]
    },
    {
      "cell_type": "markdown",
      "source": [
        "### Data preparation for model building"
      ],
      "metadata": {
        "id": "Z3d6U1TebiQY"
      }
    },
    {
      "cell_type": "code",
      "source": [
        "X = english_text_\n",
        "Y = telugu_text_\n",
        "X_train, X_test, y_train, y_test=train_test_split(X,Y,test_size=0.1)"
      ],
      "metadata": {
        "id": "UJ5pbp9ubkse"
      },
      "execution_count": 9,
      "outputs": []
    },
    {
      "cell_type": "markdown",
      "source": [
        " What is the maximum length of our sentences in both English and Telugu?"
      ],
      "metadata": {
        "id": "ws2B_kwub1SH"
      }
    },
    {
      "cell_type": "code",
      "source": [
        "def Max_length(data):\n",
        "  max_length_ = max([len(x.split(' ')) for x in data])\n",
        "  return max_length_\n",
        "#Training data\n",
        "max_length_english = Max_length(X_train)\n",
        "max_length_telugu = Max_length(y_train)\n",
        "#Test data\n",
        "max_length_english_test = Max_length(X_test)\n",
        "max_length_telugu_test = Max_length(y_test)\n",
        "max_length_telugu, max_length_english"
      ],
      "metadata": {
        "colab": {
          "base_uri": "https://localhost:8080/"
        },
        "id": "-2OcTtTYb7Y0",
        "outputId": "8207094f-f20f-41b8-d52c-75205da24328"
      },
      "execution_count": 10,
      "outputs": [
        {
          "output_type": "execute_result",
          "data": {
            "text/plain": [
              "(12, 13)"
            ]
          },
          "metadata": {},
          "execution_count": 10
        }
      ]
    },
    {
      "cell_type": "markdown",
      "source": [
        "### Tokenization"
      ],
      "metadata": {
        "id": "XqHDswAMcE9i"
      }
    },
    {
      "cell_type": "code",
      "source": [
        "englishTokenizer = Tokenizer()\n",
        "englishTokenizer.fit_on_texts(X_train)\n",
        "Eword2index = englishTokenizer.word_index\n",
        "vocab_size_source = len(Eword2index) + 1\n",
        "X_train = englishTokenizer.texts_to_sequences(X_train)\n",
        "X_train = pad_sequences(X_train, maxlen=max_length_english, padding='post')\n",
        "X_test = englishTokenizer.texts_to_sequences(X_test)\n",
        "X_test = pad_sequences(X_test, maxlen = max_length_english, padding='post')\n",
        "teluguTokenizer = Tokenizer()\n",
        "teluguTokenizer.fit_on_texts(y_train)\n",
        "Tword2index = teluguTokenizer.word_index\n",
        "vocab_size_target = len(Tword2index) + 1\n",
        "y_train = teluguTokenizer.texts_to_sequences(y_train)\n",
        "y_train = pad_sequences(y_train, maxlen=max_length_telugu, padding='post')\n",
        "y_test = teluguTokenizer.texts_to_sequences(y_test)\n",
        "y_test = pad_sequences(y_test, maxlen = max_length_telugu, padding='post')\n",
        "vocab_size_source, vocab_size_target"
      ],
      "metadata": {
        "colab": {
          "base_uri": "https://localhost:8080/"
        },
        "id": "V7gembEZcGtD",
        "outputId": "f20813e2-8e8f-41d8-c0d8-8c1d6677e7e6"
      },
      "execution_count": 11,
      "outputs": [
        {
          "output_type": "execute_result",
          "data": {
            "text/plain": [
              "(347, 408)"
            ]
          },
          "metadata": {},
          "execution_count": 11
        }
      ]
    },
    {
      "cell_type": "code",
      "source": [
        "#with open('NMT_data.pkl','wb') as f:\n",
        "  #pkl.dump([X_train, y_train, X_test, y_test],f)\n",
        "#with open('NMT_Etokenizer.pkl','wb') as f:\n",
        "  #pkl.dump([vocab_size_source, Eword2index, englishTokenizer], f)\n",
        "#with open('NMT_Mtokenizer.pkl', 'wb') as f:\n",
        "  #pkl.dump([vocab_size_target, Mword2index, marathiTokenizer], f)\n",
        "X_train = np.array(X_train)\n",
        "y_train = np.array(y_train)\n",
        "X_test = np.array(X_test)\n",
        "y_test = np.array(y_test)"
      ],
      "metadata": {
        "id": "HZXzlcNQcx8L"
      },
      "execution_count": 12,
      "outputs": []
    },
    {
      "cell_type": "code",
      "source": [
        "from attention import AttentionLayer\n",
        "\n"
      ],
      "metadata": {
        "id": "rTILbery1vHn"
      },
      "execution_count": 13,
      "outputs": []
    },
    {
      "cell_type": "markdown",
      "source": [
        "We will be using a third party attention mechanism. You can download the attention layer from bellow repository and copy it in a different file called attention.py. This attention is an implementation of ‘Bahdanau Attention’ .\n",
        "\n",
        "https://github.com/thushv89/attention_keras/blob/master/src/layers/attention.py"
      ],
      "metadata": {
        "id": "RlIvVEc4eR82"
      }
    },
    {
      "cell_type": "code",
      "source": [
        "# Attention Mechanism\n",
        "class AttentionLayer(tf.keras.layers.Layer):\n",
        "  def __init__(self, units):\n",
        "    super(AttentionLayer, self).__init__()\n",
        "    self.W1 = tf.keras.layers.Dense(units)\n",
        "    self.W2 = tf.keras.layers.Dense(units)\n",
        "    self.V = tf.keras.layers.Dense(1)\n",
        "\n",
        "  def call(self, query, values):\n",
        "    # query hidden state shape == (batch_size, hidden size)\n",
        "    # values shape == (batch_size, max_len, hidden size)\n",
        "\n",
        "    # we are doing this to broadcast addition along the time axis to calculate the score\n",
        "    # query_with_time_axis shape == (batch_size, 1, hidden size)\n",
        "    query_with_time_axis = tf.expand_dims(query, 1)\n",
        "\n",
        "    # score shape == (batch_size, max_length, 1)\n",
        "    # we get 1 at the last axis because we are applying score to self.V\n",
        "    # the shape of the tensor before applying self.V is (batch_size, max_length, units)\n",
        "    score = self.V(tf.nn.tanh(\n",
        "        self.W1(query_with_time_axis) + self.W2(values)))\n",
        "\n",
        "    # attention_weights shape == (batch_size, max_length, 1)\n",
        "    attention_weights = tf.nn.softmax(score, axis=1)\n",
        "\n",
        "    # context_vector shape after sum == (batch_size, hidden_size)\n",
        "    context_vector = attention_weights * values\n",
        "    context_vector = tf.reduce_sum(context_vector, axis=1)\n",
        "\n",
        "    return context_vector, attention_weights"
      ],
      "metadata": {
        "id": "5S-LU5v9ZJTV"
      },
      "execution_count": 14,
      "outputs": []
    },
    {
      "cell_type": "code",
      "source": [
        "from attention import AttentionLayer\n"
      ],
      "metadata": {
        "id": "g2eLCTeRwZ-4"
      },
      "execution_count": 15,
      "outputs": []
    },
    {
      "cell_type": "code",
      "source": [
        "\n",
        "from keras import backend as K\n",
        "K.clear_session()\n",
        "latent_dim = 500\n",
        "# Encoder\n",
        "encoder_inputs = Input(shape=(max_length_english,))\n",
        "enc_emb = Embedding(vocab_size_source, latent_dim,trainable=True)(encoder_inputs)\n",
        "#LSTM 1\n",
        "encoder_lstm1 = LSTM(latent_dim,return_sequences=True,return_state=True)\n",
        "encoder_output1, state_h1, state_c1 = encoder_lstm1(enc_emb)\n",
        "#LSTM 2\n",
        "encoder_lstm2 = LSTM(latent_dim,return_sequences=True,return_state=True)\n",
        "encoder_output2, state_h2, state_c2 = encoder_lstm2(encoder_output1)\n",
        "#LSTM 3\n",
        "encoder_lstm3=LSTM(latent_dim, return_state=True, return_sequences=True)\n",
        "encoder_outputs, state_h, state_c= encoder_lstm3(encoder_output2)\n",
        "# Set up the decoder.\n",
        "decoder_inputs = Input(shape=(None,))\n",
        "dec_emb_layer = Embedding(vocab_size_target, latent_dim,trainable=True)\n",
        "dec_emb = dec_emb_layer(decoder_inputs)\n",
        "#LSTM using encoder_states as initial state\n",
        "decoder_lstm = LSTM(latent_dim, return_sequences=True, return_state=True)\n",
        "decoder_outputs,decoder_fwd_state, decoder_back_state = decoder_lstm(dec_emb,initial_state=[state_h, state_c])\n",
        "#Attention Layer\n",
        "attn_layer = AttentionLayer()\n",
        "attn_out, attn_states = attn_layer([encoder_outputs, decoder_outputs])\n",
        "# Concat attention output and decoder LSTM output\n",
        "decoder_concat_input = Concatenate(axis=-1, name='concat_layer')([decoder_outputs, attn_out])\n",
        "#Dense layer\n",
        "decoder_dense = TimeDistributed(Dense(vocab_size_target, activation='softmax'))\n",
        "decoder_outputs = decoder_dense(decoder_concat_input)\n",
        "# Define the model\n",
        "model = Model([encoder_inputs, decoder_inputs], decoder_outputs)\n",
        "plot_model(model, to_file='train_model.png', show_shapes=True)"
      ],
      "metadata": {
        "colab": {
          "base_uri": "https://localhost:8080/",
          "height": 897
        },
        "id": "1AFBHt7peTxY",
        "outputId": "2bb3d1ca-2daa-41cc-d8bf-c58e7be314a1"
      },
      "execution_count": 16,
      "outputs": [
        {
          "output_type": "execute_result",
          "data": {
            "image/png": "[encoded data removed]",
            "text/plain": [
              "<IPython.core.display.Image object>"
            ]
          },
          "metadata": {},
          "execution_count": 16
        }
      ]
    },
    {
      "cell_type": "markdown",
      "source": [
        "### Compile model"
      ],
      "metadata": {
        "id": "u_tUghSCgnwS"
      }
    },
    {
      "cell_type": "code",
      "source": [
        "model.compile(optimizer='rmsprop',\n",
        "              loss='sparse_categorical_crossentropy',\n",
        "              metrics=['accuracy'])"
      ],
      "metadata": {
        "id": "r03wjeu_glgf"
      },
      "execution_count": 17,
      "outputs": []
    },
    {
      "cell_type": "markdown",
      "source": [
        "### Train model"
      ],
      "metadata": {
        "id": "HBSGlnnNg0ph"
      }
    },
    {
      "cell_type": "code",
      "source": [
        "history = model.fit([X_train, y_train[:,:-1]], y_train.reshape(y_train.shape[0], y_train.shape[1],1)[:,1:],\n",
        "                    epochs=50,\n",
        "                    batch_size=512,\n",
        "                    validation_data = ([X_test, y_test[:,:-1]],           y_test.reshape(y_test.shape[0], y_test.shape[1], 1)[:,1:]))"
      ],
      "metadata": {
        "colab": {
          "base_uri": "https://localhost:8080/"
        },
        "id": "jKpnQGtHgz6a",
        "outputId": "242ada61-879f-4674-c486-feebf8a0eee7"
      },
      "execution_count": 18,
      "outputs": [
        {
          "output_type": "stream",
          "name": "stdout",
          "text": [
            "Epoch 1/50\n",
            "1/1 [==============================] - 33s 33s/step - loss: 6.0054 - accuracy: 0.0000e+00 - val_loss: 5.7742 - val_accuracy: 0.8125\n",
            "Epoch 2/50\n",
            "1/1 [==============================] - 0s 123ms/step - loss: 5.8771 - accuracy: 0.5211 - val_loss: 5.4887 - val_accuracy: 0.8125\n",
            "Epoch 3/50\n",
            "1/1 [==============================] - 0s 107ms/step - loss: 5.7192 - accuracy: 0.5211 - val_loss: 4.8138 - val_accuracy: 0.8125\n",
            "Epoch 4/50\n",
            "1/1 [==============================] - 0s 96ms/step - loss: 5.3505 - accuracy: 0.5211 - val_loss: 1.6010 - val_accuracy: 0.8125\n",
            "Epoch 5/50\n",
            "1/1 [==============================] - 0s 87ms/step - loss: 3.2155 - accuracy: 0.5211 - val_loss: 1.7668 - val_accuracy: 0.8125\n",
            "Epoch 6/50\n",
            "1/1 [==============================] - 0s 84ms/step - loss: 5.8500 - accuracy: 0.5211 - val_loss: 2.0390 - val_accuracy: 0.8409\n",
            "Epoch 7/50\n",
            "1/1 [==============================] - 0s 92ms/step - loss: 3.0890 - accuracy: 0.5231 - val_loss: 0.9693 - val_accuracy: 0.8125\n",
            "Epoch 8/50\n",
            "1/1 [==============================] - 0s 107ms/step - loss: 3.0380 - accuracy: 0.5211 - val_loss: 1.3467 - val_accuracy: 0.8466\n",
            "Epoch 9/50\n",
            "1/1 [==============================] - 0s 90ms/step - loss: 2.7743 - accuracy: 0.5211 - val_loss: 1.1812 - val_accuracy: 0.8636\n",
            "Epoch 10/50\n",
            "1/1 [==============================] - 0s 82ms/step - loss: 2.7123 - accuracy: 0.5231 - val_loss: 1.2972 - val_accuracy: 0.8182\n",
            "Epoch 11/50\n",
            "1/1 [==============================] - 0s 86ms/step - loss: 2.6721 - accuracy: 0.5257 - val_loss: 1.2489 - val_accuracy: 0.8011\n",
            "Epoch 12/50\n",
            "1/1 [==============================] - 0s 108ms/step - loss: 2.6411 - accuracy: 0.5257 - val_loss: 1.3436 - val_accuracy: 0.7614\n",
            "Epoch 13/50\n",
            "1/1 [==============================] - 0s 85ms/step - loss: 2.6177 - accuracy: 0.5389 - val_loss: 1.2478 - val_accuracy: 0.7955\n",
            "Epoch 14/50\n",
            "1/1 [==============================] - 0s 92ms/step - loss: 2.5996 - accuracy: 0.5382 - val_loss: 1.4514 - val_accuracy: 0.7159\n",
            "Epoch 15/50\n",
            "1/1 [==============================] - 0s 90ms/step - loss: 2.5910 - accuracy: 0.5468 - val_loss: 1.0759 - val_accuracy: 0.7955\n",
            "Epoch 16/50\n",
            "1/1 [==============================] - 0s 92ms/step - loss: 2.6236 - accuracy: 0.5257 - val_loss: 1.9460 - val_accuracy: 0.5455\n",
            "Epoch 17/50\n",
            "1/1 [==============================] - 0s 87ms/step - loss: 2.7607 - accuracy: 0.5171 - val_loss: 0.7937 - val_accuracy: 0.8466\n",
            "Epoch 18/50\n",
            "1/1 [==============================] - 0s 87ms/step - loss: 3.0707 - accuracy: 0.5211 - val_loss: 1.4066 - val_accuracy: 0.6420\n",
            "Epoch 19/50\n",
            "1/1 [==============================] - 0s 88ms/step - loss: 2.6335 - accuracy: 0.5527 - val_loss: 1.1586 - val_accuracy: 0.8125\n",
            "Epoch 20/50\n",
            "1/1 [==============================] - 0s 86ms/step - loss: 2.5908 - accuracy: 0.5343 - val_loss: 1.3383 - val_accuracy: 0.7273\n",
            "Epoch 21/50\n",
            "1/1 [==============================] - 0s 84ms/step - loss: 2.5499 - accuracy: 0.5494 - val_loss: 1.2667 - val_accuracy: 0.7273\n",
            "Epoch 22/50\n",
            "1/1 [==============================] - 0s 88ms/step - loss: 2.5318 - accuracy: 0.5494 - val_loss: 1.3306 - val_accuracy: 0.6989\n",
            "Epoch 23/50\n",
            "1/1 [==============================] - 0s 91ms/step - loss: 2.5167 - accuracy: 0.5514 - val_loss: 1.2976 - val_accuracy: 0.7102\n",
            "Epoch 24/50\n",
            "1/1 [==============================] - 0s 87ms/step - loss: 2.5020 - accuracy: 0.5494 - val_loss: 1.3360 - val_accuracy: 0.6932\n",
            "Epoch 25/50\n",
            "1/1 [==============================] - 0s 86ms/step - loss: 2.4871 - accuracy: 0.5586 - val_loss: 1.2913 - val_accuracy: 0.6989\n",
            "Epoch 26/50\n",
            "1/1 [==============================] - 0s 93ms/step - loss: 2.4715 - accuracy: 0.5514 - val_loss: 1.3373 - val_accuracy: 0.6875\n",
            "Epoch 27/50\n",
            "1/1 [==============================] - 0s 86ms/step - loss: 2.4580 - accuracy: 0.5665 - val_loss: 1.2327 - val_accuracy: 0.6989\n",
            "Epoch 28/50\n",
            "1/1 [==============================] - 0s 91ms/step - loss: 2.4492 - accuracy: 0.5514 - val_loss: 1.4618 - val_accuracy: 0.6534\n",
            "Epoch 29/50\n",
            "1/1 [==============================] - 0s 84ms/step - loss: 2.4660 - accuracy: 0.5553 - val_loss: 0.9602 - val_accuracy: 0.7670\n",
            "Epoch 30/50\n",
            "1/1 [==============================] - 0s 100ms/step - loss: 2.6389 - accuracy: 0.5540 - val_loss: 1.9538 - val_accuracy: 0.5511\n",
            "Epoch 31/50\n",
            "1/1 [==============================] - 0s 96ms/step - loss: 2.6663 - accuracy: 0.5237 - val_loss: 0.8853 - val_accuracy: 0.8239\n",
            "Epoch 32/50\n",
            "1/1 [==============================] - 0s 89ms/step - loss: 2.7395 - accuracy: 0.5375 - val_loss: 1.6133 - val_accuracy: 0.5568\n",
            "Epoch 33/50\n",
            "1/1 [==============================] - 0s 85ms/step - loss: 2.5139 - accuracy: 0.5343 - val_loss: 1.1927 - val_accuracy: 0.7670\n",
            "Epoch 34/50\n",
            "1/1 [==============================] - 0s 88ms/step - loss: 2.4668 - accuracy: 0.5336 - val_loss: 1.4041 - val_accuracy: 0.6761\n",
            "Epoch 35/50\n",
            "1/1 [==============================] - 0s 89ms/step - loss: 2.4175 - accuracy: 0.5652 - val_loss: 1.2971 - val_accuracy: 0.6818\n",
            "Epoch 36/50\n",
            "1/1 [==============================] - 0s 89ms/step - loss: 2.3991 - accuracy: 0.5553 - val_loss: 1.3443 - val_accuracy: 0.6705\n",
            "Epoch 37/50\n",
            "1/1 [==============================] - 0s 85ms/step - loss: 2.3883 - accuracy: 0.5725 - val_loss: 1.2870 - val_accuracy: 0.6818\n",
            "Epoch 38/50\n",
            "1/1 [==============================] - 0s 87ms/step - loss: 2.3831 - accuracy: 0.5626 - val_loss: 1.3793 - val_accuracy: 0.6705\n",
            "Epoch 39/50\n",
            "1/1 [==============================] - 0s 84ms/step - loss: 2.3711 - accuracy: 0.5751 - val_loss: 1.2050 - val_accuracy: 0.6989\n",
            "Epoch 40/50\n",
            "1/1 [==============================] - 0s 90ms/step - loss: 2.3751 - accuracy: 0.5461 - val_loss: 1.4930 - val_accuracy: 0.6534\n",
            "Epoch 41/50\n",
            "1/1 [==============================] - 0s 89ms/step - loss: 2.4048 - accuracy: 0.5567 - val_loss: 1.0443 - val_accuracy: 0.7784\n",
            "Epoch 42/50\n",
            "1/1 [==============================] - 0s 82ms/step - loss: 2.4930 - accuracy: 0.5547 - val_loss: 1.7710 - val_accuracy: 0.5909\n",
            "Epoch 43/50\n",
            "1/1 [==============================] - 0s 87ms/step - loss: 2.4683 - accuracy: 0.5507 - val_loss: 1.0182 - val_accuracy: 0.8011\n",
            "Epoch 44/50\n",
            "1/1 [==============================] - 0s 88ms/step - loss: 2.4950 - accuracy: 0.5329 - val_loss: 1.6317 - val_accuracy: 0.5966\n",
            "Epoch 45/50\n",
            "1/1 [==============================] - 0s 86ms/step - loss: 2.4112 - accuracy: 0.5573 - val_loss: 1.1656 - val_accuracy: 0.7670\n",
            "Epoch 46/50\n",
            "1/1 [==============================] - 0s 109ms/step - loss: 2.3807 - accuracy: 0.5527 - val_loss: 1.5024 - val_accuracy: 0.6534\n",
            "Epoch 47/50\n",
            "1/1 [==============================] - 0s 89ms/step - loss: 2.3423 - accuracy: 0.5731 - val_loss: 1.1949 - val_accuracy: 0.7330\n",
            "Epoch 48/50\n",
            "1/1 [==============================] - 0s 92ms/step - loss: 2.3315 - accuracy: 0.5481 - val_loss: 1.4540 - val_accuracy: 0.6705\n",
            "Epoch 49/50\n",
            "1/1 [==============================] - 0s 86ms/step - loss: 2.3220 - accuracy: 0.5777 - val_loss: 1.1784 - val_accuracy: 0.7273\n",
            "Epoch 50/50\n",
            "1/1 [==============================] - 0s 87ms/step - loss: 2.3231 - accuracy: 0.5481 - val_loss: 1.4917 - val_accuracy: 0.6875\n"
          ]
        }
      ]
    },
    {
      "cell_type": "code",
      "source": [
        "from matplotlib import pyplot\n",
        "pyplot.plot(history.history['loss'], label='train')\n",
        "pyplot.plot(history.history['val_loss'], label='test')\n",
        "pyplot.legend()\n",
        "pyplot.show()"
      ],
      "metadata": {
        "colab": {
          "base_uri": "https://localhost:8080/",
          "height": 430
        },
        "id": "qrg-WSYmg9v5",
        "outputId": "64865813-2dc7-49eb-ccf9-69f8eabc3acc"
      },
      "execution_count": 19,
      "outputs": [
        {
          "output_type": "display_data",
          "data": {
            "text/plain": [
              "<Figure size 640x480 with 1 Axes>"
            ],
            "image/png": "[encoded data removed]"
          },
          "metadata": {}
        }
      ]
    },
    {
      "cell_type": "markdown",
      "source": [
        "### Model Saving and Loading"
      ],
      "metadata": {
        "id": "5PD46MIQhTlb"
      }
    },
    {
      "cell_type": "code",
      "source": [
        "model_json = model.to_json()\n",
        "with open(\"NMT_model.json\", \"w\") as json_file:\n",
        "    json_file.write(model_json)\n",
        "# serialize weights to HDF5\n",
        "model.save_weights(\"NMT_model_weight.h5\")\n",
        "print(\"Saved model to disk\")"
      ],
      "metadata": {
        "colab": {
          "base_uri": "https://localhost:8080/"
        },
        "id": "U8WkUCv4hQCp",
        "outputId": "322d23f1-d192-4eb5-e39b-dc975d7f1078"
      },
      "execution_count": 20,
      "outputs": [
        {
          "output_type": "stream",
          "name": "stdout",
          "text": [
            "Saved model to disk\n"
          ]
        }
      ]
    },
    {
      "cell_type": "markdown",
      "source": [
        "### Load model:"
      ],
      "metadata": {
        "id": "TNSaxOAKhciR"
      }
    },
    {
      "cell_type": "code",
      "source": [
        "# loading the model architecture and asigning the weights\n",
        "json_file = open('NMT_model.json', 'r')\n",
        "loaded_model_json = json_file.read()\n",
        "json_file.close()\n",
        "model_loaded = model_from_json(loaded_model_json, custom_objects={'AttentionLayer': AttentionLayer})\n",
        "# load weights into new model\n",
        "model_loaded.load_weights(\"NMT_model_weight.h5\")"
      ],
      "metadata": {
        "id": "nd93sFiPhaSS"
      },
      "execution_count": 21,
      "outputs": []
    },
    {
      "cell_type": "markdown",
      "source": [
        "### Inference Model"
      ],
      "metadata": {
        "id": "Bq9Vwrm4htFd"
      }
    },
    {
      "cell_type": "code",
      "source": [
        "latent_dim=500\n",
        "# encoder inference\n",
        "encoder_inputs = model_loaded.input[0]  #loading encoder_inputs\n",
        "encoder_outputs, state_h, state_c = model_loaded.layers[6].output #loading encoder_outputs\n",
        "#print(encoder_outputs.shape)\n",
        "encoder_model = Model(inputs=encoder_inputs,outputs=[encoder_outputs, state_h, state_c])\n",
        "# decoder inference\n",
        "# Below tensors will hold the states of the previous time step\n",
        "decoder_state_input_h = Input(shape=(latent_dim,))\n",
        "decoder_state_input_c = Input(shape=(latent_dim,))\n",
        "decoder_hidden_state_input = Input(shape=(9,latent_dim))\n",
        "# Get the embeddings of the decoder sequence\n",
        "decoder_inputs = model_loaded.layers[3].output\n",
        "#print(decoder_inputs.shape)\n",
        "dec_emb_layer = model_loaded.layers[5]\n",
        "dec_emb2= dec_emb_layer(decoder_inputs)\n",
        "# To predict the next word in the sequence, set the initial states to the states from the previous time step\n",
        "decoder_lstm = model_loaded.layers[7]\n",
        "decoder_outputs2, state_h2, state_c2 = decoder_lstm(dec_emb2, initial_state=[decoder_state_input_h, decoder_state_input_c])\n",
        "#attention inference\n",
        "attn_layer = model_loaded.layers[8]\n",
        "attn_out_inf, attn_states_inf = attn_layer([decoder_hidden_state_input, decoder_outputs2])\n",
        "concate = model_loaded.layers[9]\n",
        "decoder_inf_concat = concate([decoder_outputs2, attn_out_inf])\n",
        "# A dense softmax layer to generate prob dist. over the target vocabulary\n",
        "decoder_dense = model_loaded.layers[10]\n",
        "decoder_outputs2 = decoder_dense(decoder_inf_concat)\n",
        "# Final decoder model\n",
        "decoder_model = Model(\n",
        "[decoder_inputs] + [decoder_hidden_state_input,decoder_state_input_h, decoder_state_input_c],\n",
        "[decoder_outputs2] + [state_h2, state_c2])"
      ],
      "metadata": {
        "id": "AUs7UMChhpeK"
      },
      "execution_count": 22,
      "outputs": []
    },
    {
      "cell_type": "markdown",
      "source": [
        "### Predictions"
      ],
      "metadata": {
        "id": "9idzKDHXh9uc"
      }
    },
    {
      "cell_type": "code",
      "source": [
        "def decode_sequence(input_seq):\n",
        "    # Encode the input as state vectors.\n",
        "    e_out, e_h, e_c = encoder_model.predict(input_seq)\n",
        "\n",
        "    # Generate empty target sequence of length 1.\n",
        "    target_seq = np.zeros((1, 1))\n",
        "\n",
        "    # Choose the 'start' word as the first word of the target sequence\n",
        "    target_seq[0, 0] = Tword2index['start']\n",
        "\n",
        "    stop_condition = False\n",
        "    decoded_sentence = ''\n",
        "\n",
        "    while not stop_condition:\n",
        "        output_tokens, h, c = decoder_model.predict([target_seq] + [e_out, e_h, e_c])\n",
        "\n",
        "        # Sample a token\n",
        "        sampled_token_index = np.argmax(output_tokens[0, -1, :])\n",
        "\n",
        "        if sampled_token_index == 0:\n",
        "            break\n",
        "        else:\n",
        "            sampled_token = Tindex2word[sampled_token_index]\n",
        "            if sampled_token != 'end':\n",
        "                decoded_sentence += ' ' + sampled_token\n",
        "\n",
        "        # Exit condition: either hit max length or find stop word.\n",
        "        if sampled_token == 'end' or len(decoded_sentence.split()) >= (26-1):\n",
        "            stop_condition = True\n",
        "\n",
        "        # Update the target sequence (of length 1).\n",
        "        target_seq = np.zeros((1, 1))\n",
        "        target_seq[0, 0] = sampled_token_index\n",
        "\n",
        "        # Update internal states\n",
        "        e_h, e_c = h, c\n",
        "\n",
        "    return decoded_sentence\n"
      ],
      "metadata": {
        "id": "AygHb48Yvgwq"
      },
      "execution_count": 28,
      "outputs": []
    },
    {
      "cell_type": "code",
      "source": [
        "Eindex2word = englishTokenizer.index_word\n",
        "Tindex2word = teluguTokenizer.index_word"
      ],
      "metadata": {
        "id": "D3KO2E0ZiBvi"
      },
      "execution_count": 30,
      "outputs": []
    },
    {
      "cell_type": "code",
      "source": [
        "def seq2summary(input_seq):\n",
        "    newString=''\n",
        "    for i in input_seq:\n",
        "      if((i!=0 and i!=Tword2index['start']) and i!=Tword2index['end']):\n",
        "        newString=newString+Tindex2word[i]+' '\n",
        "    return newString\n",
        "def seq2text(input_seq):\n",
        "    newString=''\n",
        "    for i in input_seq:\n",
        "      if(i!=0):\n",
        "        newString=newString+Eindex2word[i]+' '\n",
        "    return newString"
      ],
      "metadata": {
        "id": "FZmBucnliHzO"
      },
      "execution_count": 31,
      "outputs": []
    },
    {
      "cell_type": "code",
      "source": [
        "from keras.preprocessing.sequence import pad_sequences\n",
        "\n",
        "# For each test sample\n",
        "for i in range(len(X_test)):\n",
        "    # Assuming X_test[i] is the input sequence\n",
        "    X_test_padded = pad_sequences([X_test[i]], maxlen=9, padding='post')\n",
        "    predicted_summary = decode_sequence(X_test_padded)\n",
        "\n",
        "    print(\"Review:\", seq2text(X_test[i]))\n",
        "    print(\"Original summary:\", seq2summary(y_test[i]))\n",
        "    print(\"Predicted summary:\", predicted_summary)\n",
        "    print(\"\\n\")\n"
      ],
      "metadata": {
        "colab": {
          "base_uri": "https://localhost:8080/"
        },
        "id": "wuHjQn2_6TZc",
        "outputId": "dd7139cc-e691-43df-f007-20f652c6fa09"
      },
      "execution_count": 33,
      "outputs": [
        {
          "output_type": "stream",
          "name": "stdout",
          "text": [
            "1/1 [==============================] - 1s 1s/step\n",
            "1/1 [==============================] - 1s 1s/step\n",
            "1/1 [==============================] - 0s 35ms/step\n",
            "1/1 [==============================] - 0s 38ms/step\n",
            "Review: people \n",
            "Original summary: \n",
            "Predicted summary:  నేను నేను\n",
            "\n",
            "\n",
            "1/1 [==============================] - 0s 36ms/step\n",
            "1/1 [==============================] - 0s 37ms/step\n",
            "1/1 [==============================] - 0s 62ms/step\n",
            "1/1 [==============================] - 0s 38ms/step\n",
            "Review: you have no need to be \n",
            "Original summary: నువ్వు లేదు \n",
            "Predicted summary:  నేను నేను\n",
            "\n",
            "\n",
            "1/1 [==============================] - 0s 23ms/step\n",
            "1/1 [==============================] - 0s 26ms/step\n",
            "1/1 [==============================] - 0s 20ms/step\n",
            "1/1 [==============================] - 0s 20ms/step\n",
            "Review: when will you next \n",
            "Original summary: \n",
            "Predicted summary:  నేను నేను\n",
            "\n",
            "\n",
            "1/1 [==============================] - 0s 20ms/step\n",
            "1/1 [==============================] - 0s 23ms/step\n",
            "1/1 [==============================] - 0s 23ms/step\n",
            "1/1 [==============================] - 0s 20ms/step\n",
            "Review: the is \n",
            "Original summary: వుంది \n",
            "Predicted summary:  నేను నేను\n",
            "\n",
            "\n",
            "1/1 [==============================] - 0s 19ms/step\n",
            "1/1 [==============================] - 0s 20ms/step\n",
            "1/1 [==============================] - 0s 21ms/step\n",
            "1/1 [==============================] - 0s 23ms/step\n",
            "Review: my hurts \n",
            "Original summary: నా \n",
            "Predicted summary:  నేను నేను\n",
            "\n",
            "\n",
            "1/1 [==============================] - 0s 20ms/step\n",
            "1/1 [==============================] - 0s 21ms/step\n",
            "1/1 [==============================] - 0s 21ms/step\n",
            "1/1 [==============================] - 0s 21ms/step\n",
            "Review: we in \n",
            "Original summary: మేము \n",
            "Predicted summary:  నేను నేను\n",
            "\n",
            "\n",
            "1/1 [==============================] - 0s 21ms/step\n",
            "1/1 [==============================] - 0s 20ms/step\n",
            "1/1 [==============================] - 0s 20ms/step\n",
            "1/1 [==============================] - 0s 20ms/step\n",
            "Review: are you \n",
            "Original summary: \n",
            "Predicted summary:  నేను నేను\n",
            "\n",
            "\n",
            "1/1 [==============================] - 0s 18ms/step\n",
            "1/1 [==============================] - 0s 20ms/step\n",
            "1/1 [==============================] - 0s 20ms/step\n",
            "1/1 [==============================] - 0s 26ms/step\n",
            "Review: can you that \n",
            "Original summary: నువ్వు అది \n",
            "Predicted summary:  నేను నేను\n",
            "\n",
            "\n",
            "1/1 [==============================] - 0s 32ms/step\n",
            "1/1 [==============================] - 0s 24ms/step\n",
            "1/1 [==============================] - 0s 21ms/step\n",
            "1/1 [==============================] - 0s 20ms/step\n",
            "Review: out of out of \n",
            "Original summary: \n",
            "Predicted summary:  నేను నేను\n",
            "\n",
            "\n",
            "1/1 [==============================] - 0s 18ms/step\n",
            "1/1 [==============================] - 0s 21ms/step\n",
            "1/1 [==============================] - 0s 21ms/step\n",
            "1/1 [==============================] - 0s 20ms/step\n",
            "Review: your day \n",
            "Original summary: నీ \n",
            "Predicted summary:  నేను నేను\n",
            "\n",
            "\n",
            "1/1 [==============================] - 0s 23ms/step\n",
            "1/1 [==============================] - 0s 23ms/step\n",
            "1/1 [==============================] - 0s 19ms/step\n",
            "1/1 [==============================] - 0s 25ms/step\n",
            "Review: help came \n",
            "Original summary: సహాయం చాలా వచ్చింది \n",
            "Predicted summary:  నేను నేను\n",
            "\n",
            "\n",
            "1/1 [==============================] - 0s 18ms/step\n",
            "1/1 [==============================] - 0s 20ms/step\n",
            "1/1 [==============================] - 0s 19ms/step\n",
            "1/1 [==============================] - 0s 19ms/step\n",
            "Review: they're \n",
            "Original summary: వాళ్ళు \n",
            "Predicted summary:  నేను నేను\n",
            "\n",
            "\n",
            "1/1 [==============================] - 0s 19ms/step\n",
            "1/1 [==============================] - 0s 20ms/step\n",
            "1/1 [==============================] - 0s 20ms/step\n",
            "1/1 [==============================] - 0s 19ms/step\n",
            "Review: when did you quit smoking \n",
            "Original summary: \n",
            "Predicted summary:  నేను నేను\n",
            "\n",
            "\n",
            "1/1 [==============================] - 0s 20ms/step\n",
            "1/1 [==============================] - 0s 22ms/step\n",
            "1/1 [==============================] - 0s 22ms/step\n",
            "1/1 [==============================] - 0s 24ms/step\n",
            "Review: i do make \n",
            "Original summary: \n",
            "Predicted summary:  నేను నేను\n",
            "\n",
            "\n",
            "1/1 [==============================] - 0s 22ms/step\n",
            "1/1 [==============================] - 0s 24ms/step\n",
            "1/1 [==============================] - 0s 21ms/step\n",
            "1/1 [==============================] - 0s 19ms/step\n",
            "Review: do you usually eat before \n",
            "Original summary: నువ్వు ముందే \n",
            "Predicted summary:  నేను నేను\n",
            "\n",
            "\n",
            "1/1 [==============================] - 0s 18ms/step\n",
            "1/1 [==============================] - 0s 20ms/step\n",
            "1/1 [==============================] - 0s 23ms/step\n",
            "1/1 [==============================] - 0s 21ms/step\n",
            "Review: how is she \n",
            "Original summary: ఆమె ఎంత పొడుగు \n",
            "Predicted summary:  నేను నేను\n",
            "\n",
            "\n"
          ]
        }
      ]
    },
    {
      "cell_type": "code",
      "source": [
        "for i in range(10):\n",
        "  print(\"Review:\",seq2text(X_test[i]))\n",
        "  print(\"Original summary:\",seq2summary(y_test[i]))\n",
        "  print(X_test[i].shape)\n",
        "  print(\"Predicted summary:\",decode_sequence(X_test[i].reshape(1,13)))\n",
        "  print(\"\\n\")\n",
        "\n"
      ],
      "metadata": {
        "colab": {
          "base_uri": "https://localhost:8080/"
        },
        "id": "dlIPOW8JtYOY",
        "outputId": "71c9779a-c661-42b7-92a3-8c083ad80ca9"
      },
      "execution_count": 34,
      "outputs": [
        {
          "output_type": "stream",
          "name": "stdout",
          "text": [
            "Review: people \n",
            "Original summary: \n",
            "(13,)\n",
            "1/1 [==============================] - 0s 22ms/step\n",
            "1/1 [==============================] - 1s 555ms/step\n",
            "1/1 [==============================] - 0s 21ms/step\n",
            "1/1 [==============================] - 0s 22ms/step\n",
            "Predicted summary:  నువ్వు నేను\n",
            "\n",
            "\n",
            "Review: you have no need to be \n",
            "Original summary: నువ్వు లేదు \n",
            "(13,)\n",
            "1/1 [==============================] - 0s 26ms/step\n",
            "1/1 [==============================] - 0s 22ms/step\n",
            "1/1 [==============================] - 0s 24ms/step\n",
            "1/1 [==============================] - 0s 21ms/step\n",
            "Predicted summary:  నేను నేను\n",
            "\n",
            "\n",
            "Review: when will you next \n",
            "Original summary: \n",
            "(13,)\n",
            "1/1 [==============================] - 0s 21ms/step\n",
            "1/1 [==============================] - 0s 22ms/step\n",
            "1/1 [==============================] - 0s 20ms/step\n",
            "1/1 [==============================] - 0s 21ms/step\n",
            "Predicted summary:  నేను నేను\n",
            "\n",
            "\n",
            "Review: the is \n",
            "Original summary: వుంది \n",
            "(13,)\n",
            "1/1 [==============================] - 0s 18ms/step\n",
            "1/1 [==============================] - 0s 23ms/step\n",
            "1/1 [==============================] - 0s 20ms/step\n",
            "1/1 [==============================] - 0s 21ms/step\n",
            "Predicted summary:  నేను నేను\n",
            "\n",
            "\n",
            "Review: my hurts \n",
            "Original summary: నా \n",
            "(13,)\n",
            "1/1 [==============================] - 0s 18ms/step\n",
            "1/1 [==============================] - 0s 20ms/step\n",
            "1/1 [==============================] - 0s 21ms/step\n",
            "1/1 [==============================] - 0s 21ms/step\n",
            "Predicted summary:  నేను నేను\n",
            "\n",
            "\n",
            "Review: we in \n",
            "Original summary: మేము \n",
            "(13,)\n",
            "1/1 [==============================] - 0s 23ms/step\n",
            "1/1 [==============================] - 0s 21ms/step\n",
            "1/1 [==============================] - 0s 26ms/step\n",
            "1/1 [==============================] - 0s 20ms/step\n",
            "Predicted summary:  నేను నేను\n",
            "\n",
            "\n",
            "Review: are you \n",
            "Original summary: \n",
            "(13,)\n",
            "1/1 [==============================] - 0s 20ms/step\n",
            "1/1 [==============================] - 0s 20ms/step\n",
            "1/1 [==============================] - 0s 22ms/step\n",
            "1/1 [==============================] - 0s 22ms/step\n",
            "Predicted summary:  నేను నేను\n",
            "\n",
            "\n",
            "Review: can you that \n",
            "Original summary: నువ్వు అది \n",
            "(13,)\n",
            "1/1 [==============================] - 0s 22ms/step\n",
            "1/1 [==============================] - 0s 19ms/step\n",
            "1/1 [==============================] - 0s 19ms/step\n",
            "1/1 [==============================] - 0s 20ms/step\n",
            "Predicted summary:  నేను నేను\n",
            "\n",
            "\n",
            "Review: out of out of \n",
            "Original summary: \n",
            "(13,)\n",
            "1/1 [==============================] - 0s 21ms/step\n",
            "1/1 [==============================] - 0s 22ms/step\n",
            "1/1 [==============================] - 0s 21ms/step\n",
            "1/1 [==============================] - 0s 24ms/step\n",
            "Predicted summary:  నేను నేను\n",
            "\n",
            "\n",
            "Review: your day \n",
            "Original summary: నీ \n",
            "(13,)\n",
            "1/1 [==============================] - 0s 25ms/step\n",
            "1/1 [==============================] - 0s 19ms/step\n",
            "1/1 [==============================] - 0s 19ms/step\n",
            "1/1 [==============================] - 0s 20ms/step\n",
            "Predicted summary:  నేను నేను\n",
            "\n",
            "\n"
          ]
        }
      ]
    },
    {
      "cell_type": "code",
      "source": [
        "import tensorflow as tf\n",
        "from tensorflow.keras.layers import Layer, Dense, Dot\n",
        "\n",
        "class SelfAttention(Layer):\n",
        "    def __init__(self, **kwargs):\n",
        "        super(SelfAttention, self).__init__(**kwargs)\n",
        "\n",
        "    def build(self, input_shape):\n",
        "        self.W = self.add_weight(shape=(input_shape[-1], input_shape[-1]),\n",
        "                                 initializer='random_normal',\n",
        "                                 trainable=True,\n",
        "                                 name='attention_weights')\n",
        "        self.b = self.add_weight(shape=(input_shape[-1],),\n",
        "                                 initializer='zeros',\n",
        "                                 trainable=True,\n",
        "                                 name='attention_bias')\n",
        "        super(SelfAttention, self).build(input_shape)\n",
        "\n",
        "    def call(self, inputs):\n",
        "        q = tf.matmul(inputs, self.W)  # Dot product using matrix multiplication\n",
        "        q += self.b\n",
        "        q = tf.nn.tanh(q)\n",
        "        scores = tf.nn.softmax(q, axis=-2)  # Compute softmax along the sequence length\n",
        "        attention_output = tf.reduce_sum(scores * inputs, axis=-2)  # Compute the weighted sum\n",
        "        return attention_output\n",
        "\n",
        "    def compute_output_shape(self, input_shape):\n",
        "        return input_shape\n",
        "\n",
        "# Test the attention layer\n",
        "# Assume input_shape = (batch_size, sequence_length, num_features)\n",
        "input_shape = (None, 10, 64)  # Example input shape\n",
        "inputs = tf.keras.Input(shape=input_shape)\n",
        "attention_output = SelfAttention()(inputs)\n",
        "model = tf.keras.Model(inputs=inputs, outputs=attention_output)\n",
        "model.summary()\n"
      ],
      "metadata": {
        "colab": {
          "base_uri": "https://localhost:8080/"
        },
        "id": "dXj96khS68iw",
        "outputId": "42f6c8d3-22be-411b-bee4-4d53d555747e"
      },
      "execution_count": 36,
      "outputs": [
        {
          "output_type": "stream",
          "name": "stdout",
          "text": [
            "Model: \"model_3\"\n",
            "_________________________________________________________________\n",
            " Layer (type)                Output Shape              Param #   \n",
            "=================================================================\n",
            " input_7 (InputLayer)        [(None, None, 10, 64)]    0         \n",
            "                                                                 \n",
            " self_attention_1 (SelfAtte  (None, None, 64)          4160      \n",
            " ntion)                                                          \n",
            "                                                                 \n",
            "=================================================================\n",
            "Total params: 4160 (16.25 KB)\n",
            "Trainable params: 4160 (16.25 KB)\n",
            "Non-trainable params: 0 (0.00 Byte)\n",
            "_________________________________________________________________\n"
          ]
        }
      ]
    },
    {
      "cell_type": "code",
      "source": [],
      "metadata": {
        "id": "JI4hTR227PGr"
      },
      "execution_count": null,
      "outputs": []
    }
  ]
}